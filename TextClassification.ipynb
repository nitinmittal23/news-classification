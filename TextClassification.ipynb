{
 "cells": [
  {
   "cell_type": "code",
   "execution_count": 1,
   "metadata": {},
   "outputs": [],
   "source": [
    "from os import listdir\n",
    "from os.path import isfile, join\n",
    "import string"
   ]
  },
  {
   "cell_type": "code",
   "execution_count": 2,
   "metadata": {},
   "outputs": [
    {
     "data": {
      "text/plain": [
       "['talk.politics.mideast',\n",
       " 'rec.autos',\n",
       " 'comp.sys.mac.hardware',\n",
       " 'alt.atheism',\n",
       " 'rec.sport.baseball',\n",
       " 'comp.os.ms-windows.misc',\n",
       " 'rec.sport.hockey',\n",
       " 'sci.crypt',\n",
       " 'sci.med',\n",
       " 'talk.politics.misc',\n",
       " 'rec.motorcycles',\n",
       " 'comp.windows.x',\n",
       " 'comp.graphics',\n",
       " 'comp.sys.ibm.pc.hardware',\n",
       " 'sci.electronics',\n",
       " 'talk.politics.guns',\n",
       " 'sci.space',\n",
       " 'soc.religion.christian',\n",
       " 'misc.forsale',\n",
       " 'talk.religion.misc']"
      ]
     },
     "execution_count": 2,
     "metadata": {},
     "output_type": "execute_result"
    }
   ],
   "source": [
    "my_path = '20_newsgroups'\n",
    "folders = [f for f in listdir(my_path) if f!='.DS_Store']\n",
    "# list of folder names\n",
    "folders"
   ]
  },
  {
   "cell_type": "code",
   "execution_count": 3,
   "metadata": {},
   "outputs": [],
   "source": [
    "# 2D list to store list of all files in different folders\n",
    "files = []\n",
    "for folder_name in folders:\n",
    "    if folder_name == '.DS_Store':\n",
    "        continue\n",
    "    folder_path = join(my_path, folder_name)\n",
    "    files.append([f for f in listdir(folder_path)])"
   ]
  },
  {
   "cell_type": "code",
   "execution_count": 4,
   "metadata": {},
   "outputs": [
    {
     "data": {
      "text/plain": [
       "20"
      ]
     },
     "execution_count": 4,
     "metadata": {},
     "output_type": "execute_result"
    }
   ],
   "source": [
    "len(folders)"
   ]
  },
  {
   "cell_type": "code",
   "execution_count": 5,
   "metadata": {},
   "outputs": [],
   "source": [
    "# list of pathnames of all the documents\n",
    "pathname_list = []\n",
    "for fo in range(len(folders)):\n",
    "    for fi in files[fo]:\n",
    "        pathname_list.append(join(my_path, join(folders[fo], fi)))"
   ]
  },
  {
   "cell_type": "code",
   "execution_count": 6,
   "metadata": {},
   "outputs": [
    {
     "data": {
      "text/plain": [
       "['20_newsgroups/talk.politics.mideast/75895',\n",
       " '20_newsgroups/talk.politics.mideast/76248',\n",
       " '20_newsgroups/talk.politics.mideast/76277',\n",
       " '20_newsgroups/talk.politics.mideast/76045',\n",
       " '20_newsgroups/talk.politics.mideast/77197']"
      ]
     },
     "execution_count": 6,
     "metadata": {},
     "output_type": "execute_result"
    }
   ],
   "source": [
    "pathname_list[0:5]"
   ]
  },
  {
   "cell_type": "code",
   "execution_count": 7,
   "metadata": {},
   "outputs": [
    {
     "data": {
      "text/plain": [
       "19997"
      ]
     },
     "execution_count": 7,
     "metadata": {},
     "output_type": "execute_result"
    }
   ],
   "source": [
    "# array containing the classes each of the documents belong to\n",
    "Y = []\n",
    "for folder in folders:\n",
    "    folder_path = join(my_path, folder)\n",
    "    num_of_files = len(listdir(folder_path))\n",
    "    for i in range(num_of_files):\n",
    "        Y.append(folder)\n",
    "len(Y)"
   ]
  },
  {
   "cell_type": "code",
   "execution_count": 8,
   "metadata": {},
   "outputs": [
    {
     "data": {
      "text/plain": [
       "['talk.politics.mideast',\n",
       " 'talk.politics.mideast',\n",
       " 'talk.politics.mideast',\n",
       " 'talk.politics.mideast',\n",
       " 'talk.politics.mideast',\n",
       " 'talk.politics.mideast',\n",
       " 'talk.politics.mideast',\n",
       " 'talk.politics.mideast',\n",
       " 'talk.politics.mideast',\n",
       " 'talk.politics.mideast']"
      ]
     },
     "execution_count": 8,
     "metadata": {},
     "output_type": "execute_result"
    }
   ],
   "source": [
    "Y[0:10]"
   ]
  },
  {
   "cell_type": "code",
   "execution_count": 9,
   "metadata": {},
   "outputs": [],
   "source": [
    "from sklearn.model_selection import train_test_split"
   ]
  },
  {
   "cell_type": "code",
   "execution_count": 10,
   "metadata": {},
   "outputs": [],
   "source": [
    "# Splitting the data into train and test\n",
    "x_train, x_test, y_train, y_test = train_test_split(pathname_list, Y, random_state=0, test_size=0.25)"
   ]
  },
  {
   "cell_type": "code",
   "execution_count": 11,
   "metadata": {},
   "outputs": [],
   "source": [
    "# Listing common stopwords\n",
    "import string\n",
    "stop_words = ['a', 'about', 'above', 'after', 'again', 'against', 'all', 'am', 'an', 'and', 'any', 'are', \"aren't\", 'as', 'at',\n",
    " 'be', 'because', 'been', 'before', 'being', 'below', 'between', 'both', 'but', 'by', \n",
    " 'can', \"can't\", 'cannot', 'could', \"couldn't\", 'did', \"didn't\", 'do', 'does', \"doesn't\", 'doing', \"don't\", 'down', 'during',\n",
    " 'each', 'few', 'for', 'from', 'further', \n",
    " 'had', \"hadn't\", 'has', \"hasn't\", 'have', \"haven't\", 'having', 'he', \"he'd\", \"he'll\", \"he's\", 'her', 'here', \"here's\",\n",
    " 'hers', 'herself', 'him', 'himself', 'his', 'how', \"how's\",\n",
    " 'i', \"i'd\", \"i'll\", \"i'm\", \"i've\", 'if', 'in', 'into', 'is', \"isn't\", 'it', \"it's\", 'its', 'itself',\n",
    " \"let's\", 'me', 'more', 'most', \"mustn't\", 'my', 'myself',\n",
    " 'no', 'nor', 'not', 'of', 'off', 'on', 'once', 'only', 'or', 'other', 'ought', 'our', 'ours' 'ourselves', 'out', 'over', 'own',\n",
    " 'same', \"shan't\", 'she', \"she'd\", \"she'll\", \"she's\", 'should', \"shouldn't\", 'so', 'some', 'such', \n",
    " 'than', 'that',\"that's\", 'the', 'their', 'theirs', 'them', 'themselves', 'then', 'there', \"there's\", 'these', 'they', \"they'd\", \n",
    " \"they'll\", \"they're\", \"they've\", 'this', 'those', 'through', 'to', 'too', 'under', 'until', 'up', 'very', \n",
    " 'was', \"wasn't\", 'we', \"we'd\", \"we'll\", \"we're\", \"we've\", 'were', \"weren't\", 'what', \"what's\", 'when', \"when's\", 'where',\n",
    " \"where's\", 'which', 'while', 'who', \"who's\", 'whom', 'why', \"why's\",'will', 'with', \"won't\", 'would', \"wouldn't\", \n",
    " 'you', \"you'd\", \"you'll\", \"you're\", \"you've\", 'your', 'yours', 'yourself', 'yourselves', \n",
    " 'one', 'two', 'three', 'four', 'five', 'six', 'seven', 'eight', 'nine', 'ten', 'hundred', 'thousand', '1st', '2nd', '3rd',\n",
    " '4th', '5th', '6th', '7th', '8th', '9th', '10th']"
   ]
  },
  {
   "cell_type": "code",
   "execution_count": 12,
   "metadata": {},
   "outputs": [],
   "source": [
    "# Function for Pre Processing of the data\n",
    "def pre_process_docs(words):\n",
    "    table = str.maketrans('', '', '\\t') # Removes unnecessary tabs\n",
    "    words = [word.translate(table) for word in words]\n",
    "    punctuations = (string.punctuation).replace(\"'\", \"\") # Removal of words with ' punctuation\n",
    "    trans_table = str.maketrans('', '', punctuations)\n",
    "    stripped_words = [word.translate(trans_table) for word in words]\n",
    "    words = [str for str in stripped_words if str] # Removal of blank words\n",
    "    p_words = [] #some words are quoted in the documents & as we have not removed ' to maintain the integrity of some stopwords\n",
    "    for word in words:\n",
    "        if(word[0] and word[len(word) - 1] == \"'\"):\n",
    "            word = word[1: len(word)-1]\n",
    "        elif(word[0] == \"'\"):\n",
    "            word = word[1: len(word)]\n",
    "        else:\n",
    "            word = word\n",
    "        p_words.append(word)\n",
    "    words = p_words.copy()\n",
    "    words = [word for word in words if not word.isdigit()] # Removal of words which contains only digits\n",
    "    words = [word for word in words if not len(word) == 1] # Removal of words with single character\n",
    "    words = [str for str in stripped_words if str]  # Removal of blank words\n",
    "    words = [word.lower() for word in words]\n",
    "    words = [word for word in words if not len(word) < 3] # Removal of words with length less than 3\n",
    "    words = [str for str in stripped_words if str] # Removal of blank words\n",
    "    return words"
   ]
  },
  {
   "cell_type": "code",
   "execution_count": 13,
   "metadata": {},
   "outputs": [],
   "source": [
    "# Function To Remove Stopwords\n",
    "def remove_stopwords(words):\n",
    "    words = [word for word in words if not word in stop_words]\n",
    "    return words"
   ]
  },
  {
   "cell_type": "code",
   "execution_count": 14,
   "metadata": {},
   "outputs": [],
   "source": [
    "# Function to convert sentence to arry of words\n",
    "def tokenize_sentence(line):\n",
    "    words = line[0:len(line)-1].strip().split(\" \")\n",
    "    words = pre_process_docs(words)\n",
    "    words = remove_stopwords(words)\n",
    "    return words"
   ]
  },
  {
   "cell_type": "code",
   "execution_count": 15,
   "metadata": {},
   "outputs": [],
   "source": [
    "# Remove meta data\n",
    "def remove_metadata(lines):\n",
    "    start=0\n",
    "    for i in range(len(lines)):\n",
    "        if(lines[i] == '\\n'):\n",
    "            start = i+1\n",
    "            break\n",
    "    new_lines = lines[start:]\n",
    "    return new_lines"
   ]
  },
  {
   "cell_type": "code",
   "execution_count": 16,
   "metadata": {},
   "outputs": [],
   "source": [
    "#function to convert a document into list of words\n",
    "def tokenize(path):\n",
    "    f = open(path, 'rb')\n",
    "    text_lines = [x.decode('latin-1').strip() for x in f.readlines()]\n",
    "    text_lines = remove_metadata(text_lines) #removing the meta-data at the top of each document\n",
    "    doc_words = []\n",
    "    for line in text_lines: #traverse over all the lines and tokenize each one with the help of helper function: tokenize_sentence\n",
    "        doc_words.append(tokenize_sentence(line))\n",
    "    return doc_words"
   ]
  },
  {
   "cell_type": "code",
   "execution_count": 17,
   "metadata": {},
   "outputs": [],
   "source": [
    "# Convert 2d array to 1d array\n",
    "def flat(list):\n",
    "    new_list = []\n",
    "    for i in list:\n",
    "        for j in i:\n",
    "            new_list.append(j)\n",
    "    return new_list"
   ]
  },
  {
   "cell_type": "code",
   "execution_count": 18,
   "metadata": {},
   "outputs": [],
   "source": [
    "list_of_words = []\n",
    "for document in x_train:\n",
    "    list_of_words.append(flat(tokenize(document)))"
   ]
  },
  {
   "cell_type": "code",
   "execution_count": 19,
   "metadata": {},
   "outputs": [
    {
     "data": {
      "text/plain": [
       "14997"
      ]
     },
     "execution_count": 19,
     "metadata": {},
     "output_type": "execute_result"
    }
   ],
   "source": [
    "len(list_of_words)"
   ]
  },
  {
   "cell_type": "code",
   "execution_count": 20,
   "metadata": {},
   "outputs": [
    {
     "data": {
      "text/plain": [
       "2923305"
      ]
     },
     "execution_count": 20,
     "metadata": {},
     "output_type": "execute_result"
    }
   ],
   "source": [
    "len(flat(list_of_words))"
   ]
  },
  {
   "cell_type": "code",
   "execution_count": 21,
   "metadata": {},
   "outputs": [],
   "source": [
    "import numpy as np\n",
    "np_list_of_words = np.asarray(flat(list_of_words))"
   ]
  },
  {
   "cell_type": "code",
   "execution_count": 22,
   "metadata": {},
   "outputs": [],
   "source": [
    "#finding the number of unique words that we have extracted from the documents\n",
    "words, count = np.unique(np_list_of_words, return_counts=True)"
   ]
  },
  {
   "cell_type": "code",
   "execution_count": 23,
   "metadata": {},
   "outputs": [
    {
     "data": {
      "text/plain": [
       "266080"
      ]
     },
     "execution_count": 23,
     "metadata": {},
     "output_type": "execute_result"
    }
   ],
   "source": [
    "len(words)"
   ]
  },
  {
   "cell_type": "code",
   "execution_count": 24,
   "metadata": {},
   "outputs": [],
   "source": [
    "#sorting the unique words according to their frequency\n",
    "freq, words = (list(i) for i in zip(*(sorted(zip(count, words), reverse = True))))"
   ]
  },
  {
   "cell_type": "code",
   "execution_count": 25,
   "metadata": {},
   "outputs": [],
   "source": [
    "freq_of_word = []\n",
    "num_of_word = []\n",
    "for f in sorted(np.unique(freq), reverse=True):\n",
    "    freq_of_word.append(f)\n",
    "    num_of_word.append(f)"
   ]
  },
  {
   "cell_type": "code",
   "execution_count": 26,
   "metadata": {},
   "outputs": [
    {
     "name": "stdout",
     "output_type": "stream",
     "text": [
      "['I', 'The', 'From', 'Subject', 'Date', 'Newsgroups', 'Lines', 'MessageID', 'Path', 'Apr', 'Organization', 'GM', 'th', 'In', 'writes', '1993', '1', 'Re', 'References', 'article', 'o', 'Sender', '2', 'If', 'like', 'people', 'know', '93', 'get', 'It', 'just', 't', 'University', 'This', 'think', 'A', '3', 'use', 'time', \"I'm\", 'Xref', 'cantaloupesrvcscmuedu', 'X', 'also', 'good', 'You', 'say', 'way', 'see', 'us', 'tha', 'And', 'even', '4', 'much', 'make', 'may', 'What', 'Distribution', 'NntpPostingHost', 'But', 'NNTPPostingHost', 'right', '5', 'want', 'said', 'many', 'used', 'first', 'b', '6', 'now', 'work', 'God', 'new', 'need', 'They', 'well', 'system', 'anyone', 'problem', 'There', '20', 'News', 'believe', 'really', 'something', 'US', 'go', \"MAX'AX'AX'AX'AX'AX'AX'AX'AX'AX'AX'AX'AX'AX'AX\", 'years', \"I've\", 'He', 'still', '16', 'ReplyTo', 'point', 'find', 'going', '21', 'So', 'might', 'back', 'We', 'How', 'take', 'better', 'For', 'using', '0', '15', 'things', 'question', 'thing', 'Is', 'My', 'etc', 'must', 'fo', 'year', 'since', 'No', 'never', 'information', 'read', 'government', 'got', 'last', 'made', 'C', 'help', 'file', 'number', 'someone', 'David', 'As', 'without', 'May', 'come', 'fact', 'sure', '10', 'program', 'around', 'available', 'New', 'Computer', 'Thanks', 'version', 'part', 'drive', 'Fri', 'Tue', 'anything', 'give', '23', 'another', 'case', 'John', 'little', 'System', 'M', 'ar', '8', 'different', 'least', 'look', 'course', '22', '7', 'car', 'set', '11', 'long', 'data', \"It's\", 'Why', 'enough', 'put', 'When', 'seems', 'says', 'lot', 'mean', 'day', 'Thu', 'email', 'tell', 'power', 'To', 'run', 'That', 'game', 'true', 'Inc', 'Universit', 'worl', 'probably', 'best', 'wit', 'though', 'far', 'Windows', 'every', \"I'd\", 'possible', 'either', 'life', 'try', 'reason', 'world', 'hav', 'wrong', 'Well', 'please', 'yo', 'State', 'called', 'All', 'Jesus', 'man', 'n', 'else', 'real', 'law', 'found', 'nothing', 'ever', 'Mon', 'seen', '12', 'support', 'bit', 'problems', 'example', 'Please', 'rather', 'Sun', 'done', 'wrote', 'able', '19', 'great', 'person', 'list', 'others', 'name', 'post', 'Christian', 'card', 'place', 'Does', 'wa', 'Wed', 'One', 'heard', '17', 'hard', 'key', 'software', 'Now', 'seem', 'USENET', 'group', 'line', 'next', 'following', 'message', 'bad', '30', '25', '24', 'old', 'evidence', 'Keywords', 'thi', 'THE', 'files', 'end', 'actually', 'means', 'thought', 'always', 'looking', 'keep', 'state', 'free', 'trying', 'quite', '14', 'call', 'idea', 'order', 'Any', 'less', 'start', 'kind', 'away', 'On', \"I'll\", 'public', 'However', 'image', 'Israel', '18', 'FollowupTo', 'yet', 'change', 'Michael', 'Mark', 'book', 'm', 'J', 'opinions', 'let', 'makes', 'Science', 'whether', 'left', 'fro', 'Not', 'window', 'Jews', 'team', 'getting', 'children', 'high', 'Also', 'several', '26', 'second', 'saying', 'Do', 'send', 'based', 'Can', 'Just', 'already', '9', 'ago', 'Bill', 'human', 'interested', 'came', 'After', 'word', 'money', 'Research', 'NOT', 'running', 'chip', 'control', 'stuff', 'times', 'standard', 'Mr', 'given', 'agree', 'matter', 'gun', 'space', 'bu', 'issue', 'ha', 'told', 'D', 'answer', 'claim', 'understand', 'home', 'ask', 'P', 'fire', 'Paul', 'Some', 'April', 'pretty', 'Internet', 'Institute', 'questions', 'today', 'Armenian', 'days', 'disk', 'R', 'American', 'FBI', 'DOS', 'S', 'small', 'local', 'feel', 'buy', 'include', 'show', 'went', 'Steve', 'large', 'games', 'news', 'source', 'care', 'U', 'whole', 'rights', 'works', 'price', 'computer', 'W', 'Of', 'Approved', 'often', 'code', 'Usenet', 'These', 'live', 'started', 'value', 'info', 'religion', 'big', 'Th', 'play', 'current', 'important', 'E', 'Q', 'PC', 'original', 'machine', 'Yes', 'XNewsreader', 'remember', 'programs', 'side', 'Robert', 'speed', '27', 'OF', 'mail', 'B', 'hand', 'hope', 'Or', 'Mike', 'simply', 'Bible', 'pay', 'mind', 'Department', '50', 'National', 'love', 'Mac', 'recsportbasebal', 'including', 'maybe', 'making', 'guess', 'N', 'phone', 'everything', 'L', 'woul', 'recsporthocke', 'At', 'cause', 'Center', 'full', 'tried', 'memory', 'general', 'USA', 'opinion', 'comes', 'ca', 'difference', 'Are', 'Armenians', '13', '100', '199', 'recmotorcycle', 'ie', 'Sat', 'MS', 'area', 'however', 'Jim', 'address', 'vs', 'Space', 'Systems', 'write', 'country', 'type', 'words', 'socreligionchristia', 'Dept', 'working', 'almost', 'happened', 'christianaramisrutgersed', 'posting', 'thei', 'clear', 'Turkish', 'exist', 'everyone', \"That's\", 'wil', 'argument', 'compsysmachardwar', 'sense', 'truth', 'science', 'abou', 'SCSI', '31', 'access', 'instead', 'color', 'situation', 'within', 'H', 'certainly', 'California', 'sort', 'provide', 'IBM', 'talking', 'deal', 'w', 'couple', 'al', 'copy', 'An', 'ou', 'cost', 'death', 'Christ', 'objective', 'light', 'systems', 'Then', \"Don't\", 'single', 'men', 'hear', 'net', 'windows', 'San', 'view', 'took', 'likely', 'President', 'compsysibmpchardwar', 'consider', 'later', 'history', 'Christians', 'open', 'encryption', 'display', 'Frank', 'd', 'package', 'Israeli', 'saw', 'form', 'nice', 'correct', 'recauto', 'experience', 'wh', 'similar', 'statement', 'user', 'moral', 'goes', 'Hi', 'via', 'Jewish', 'religious', 'position', 'effect', 'asked', 'altatheis', 'server', 'video', 'taken', 'hi', 'night', 'known', 'killed', 'format', 'JPEG', 'wanted', 'become', 'scielectronic', 'happen', 'dead', 'text', '040', 'subject', 'whic', 'Peter', 'police', 'written', 'size', 'faith', 'discussion', 'CA', 'past', 'particular', 'fine', 'Software', 'body', 'Since', 'ArticleID', 'per', 'Dave', 'Brian', 'rest', 'hardware', 'certain', 'sound', 'expect', 'reading', 'monitor', 'driver', 'G', 'upon', 'By', 'Technology', 'months', 'mode', 'mine', 'major', 'laws', 'uses', 'application', 'turn', 'compwindows', 'anybody', '28', 'lines', 'simple', 'interesting', 'common', 'Koresh', 'stop', 'DB', 'war', 'needs', 'mor', 'exactly', 'check', 'among', 'images', 'hit', 'T', 'Email', 'ones', 'especially', 'longer', 'head', 'Your', 'talk', 'som', 's', 'women', 'unless', 'accept', 'bike', 'h', 'gets', 'considered', 'His', 'wer', 'usually', 'guns', 'force', 'James', '40', 'College', 'u', 'Western', 'win', 'groups', 'anyway', 'error', 'sell', 'perhaps', 'guy', 'due', 'Clinton', 'scime', 'numbers', 'job', 'easy', 'worth', 'whatever', 'level', 'Where', 'FAQ', 'TIN', 'Engineering', 'ED', 'keys', 'Washington', 'Bob', 'York', 'process', 'doubt', 'involved', 'cars', 'With', 'players', 'fast', 'Texas', 'result', 'Apple', 'except', 'private', 'outside', 'Note', 'screen', 'although', 'Oh', 'First', 'advance', 'speak', 'Summary', 'present', 'front', 'O', 'security', 'company', 'test', 'kill', 'composmswindowsmis', 'assume', 'week', 'othe', 'top', 'note', 'add', 'posted', 'Armenia', 'results', 'compgraphic', 'talkpoliticsgun', 'box', 'Even', 'members', 'together', 'theory', 'shall', 'Clipper', 'yes', 'values', 'books', 'scispac', 'early', 'move', 'friend', 'face', 'model', 'business', 'necessary', 'explain', 'board', 'recently', 'cases', 'II', 'previous', 'bee', 'graphics', 'drivers', 'users', 'save', 'AND', 'peace', 'drives', 'runs', 'low', 'account', 'points', 'future', 'wha', 'taking', 'season', 'rate', 'deleted', 'hell', 'close', 'action', 'story', 'knows', 'ground', 'Who', '2000', 'While', 'third', 'needed', 'Tom', 'Maybe', 'quality', 'claims', 'appreciated', '29', 'output', 'Dr', 'short', 'service', 'hold', 'create', 'Most', 'Canada', 'BBS', 'BATF', 'lost', 'allow', 'return', 'Access', 'Eric', 'health', 'black', 'behind', 'Richard', 'Chris', 'wants', 'reference', 'onl', 'offer', 'personal', 'parts', 'coming', 'Toronto', 'Thomas', 'population', 'god', 'sale', 'FOR', 'ways', 'political', 'build', 'Good', 'ideas', 'crime', 'strong', 'Univ', 'NO', 'weapons', 'United', 'study', 'basis', 'society', 'legal', 'leave', 'Andrew', 'specific', 'sent', 'mentioned', 'willing', 'various', 'soon', 'gas', 'thinking', 'response', 'million', 'Many', 'land', 'Thank', 'looks', 'knowledge', 'gives', 'World', 'America', 'shot', 'Pittsburgh', 'algorithm', 'special', 'OK', 'reasons', 'IS', 'interest', 'along', 'contact', 'period', 'takes', 'die', 'States', 'bought', 'St', 'bus', 'Christianity', 'useful', 'insurance', 'building', 'belief', 'tape', 'Services', 'research', 'faster', 'choice', 'supposed', 'report', 'existence', 'sources', 'serious', 'average', 'performance', 'newsgroup', 'eg', 'cut', 'series', 'included', 'follow', 'Perhaps', 'sin', 'higher', 'Network', '35', 'required', 'issues', 'int', 'meaning', 'NASA', 'Here', 'school', 'includes', 'child', 'Smith', 'F', '1992', 'weeks', 'sometimes', 'looked', 'learn', 'field', 'Public', \"God's\", 'technology', 'suggest', 'peopl', 'Muslim', 'stated', 'morality', 'Go', 'CD', 'product', 'created', 'TV', 'ther', 'IDE', 'Computing', 'total', 'rules', 'purpose', 'player', 'complete', 'necessarily', 'Sorry', 'Scott', 'Boston', 'network', 'term', 'house', 'chance', 'scicryp', 'definition', 'Unix', 'Illinois', 'George', 'gave', 'Arab', 'states', 'church', 'base', 'She', 'Matthew', 'water', 'jus', 'built', 'act', 'living', 'ftp', 'completely', 'amount', 'wish', 'reasonable', 'earth', 'drug', 'controller', 'thin', 'machines', 'TO', 'Originator', 'NY', 'reply', 'near', 'military', 'event', 'comments', 'Could', 'Anyone', 'nature', 'Actually', 'record', 'prove', 'cards', 'normal', 'Keith', 'inside', 'difficult', 'appears', 'Russian', 'owner', 'Has', '32', 'Tim', 'Ken', 'K', 'DoD', 'thus', 'late', 'continue', 'MA', 'views', 'illegal', 'entire', 'designed', 'HP', 'port', 'individual', 'device', 'family', 'directly', 'figure', 'press', 'terms', 'mention', 'Online', 'Greek', 'happens', \"don'\", 'half', 'actions', 'oil', 'baseball', 'alone', '200', 'plan', 'media', 'main', 'Because', 'hours', 'decided', 'lik', 'Muslims', 'wonder', 'condition', 'V', 'paper', 'design', 'cheap', 'serve', 'rule', 'details', 'hedrickathosrutgersed', 'changed', 'knew', 'hockey', 'attempt', 'Motif', 'worked', 'places', 'miscforsal', 'class', 'applications', 'Graphics', 'require', 'facts', 'engine', 'Serdar', 'exists', '60', 'section', 'manager', 'died', 'Joe', 'DES', 'language', 'installed', 'quote', 'events', 'cover', 'Box', 'wife', 'mouse', 'bits', 'advice', 'Corporation', 'lead', 'goal', 'therefore', 'c', 'brought', 'market', 'lives', 'folks', 'drugs', 'currently', 'companies', 'Waco', 'NT', 'Corp', 'talkpoliticsmideas', 'devices', 'clearly', \"There's\", 'wondering', 'sex', 'se', 'break', 'asking', 'compound', 'according', 'Jon', 'recent', 'function', 'responsible', 'attack', 'CS', 'whose', 'freedom', 'fans', 'Would', 'wait', 'universe', 'federal', 'White', 'Communications', '80', 'related', 'policy', 'lots', 'community', 'Did', 'interface', 'happy', 'RAM', 'method', 'guys', 'allowed', 'Which', 'reported', 'Service', 'serial', 'medical', 'choose', 'carry', 'North', 'Chicago', 'p', 'Colorado', 'site', 'ge', 'German', 'reality', 'manual', 'arms', 'addition', 'Net', 'FTP', 'FAX', 'food', 'easily', 'Joseph', 'General', 'Gary', '300', 'stupid', 'protect', 'obvious', 'hedrickgenevarutgersed', 'bring', 'scientific', 'release', 'printer', 'Turkey', 'GIF', 'Church', 'suspect', 'lack', 'Red', 'Lee', 'BTW', 'context', 'areas', 'Law', 'thes', 'project', 'door', 'directory', 'Mormons', 'worse', 'forget', 'basic', 'Georgia', 'Disclaimer', 'solution', 'radio', 'miles', 'citizens', 'School', 'Microsoft', 'fall', 'expressed', 'city', 'Will', 'LA', 'realize', 'limited', 'appear', 'Cente', 'whe', 'shows', 'appreciate', 'apply', 'understanding', 'fan', 'disease', 'coverage', 'appropriate', 'sounds', 'object', 'blood', 'AT', 'stand', 'reports', 'otherwise', 'month', 'gone', 'Roger', 'provided', 'killing', 'comment', 'across', 'Technolog', 'Doug', 'City', 'young', 'posts', 'input', 'homosexual', 'Fax', 'Another', 'Americans', 'modem', 'Pat', 'Once', 'treatment', 'practice', 'eve', 'court', 'cable', 'air', 'Window', 'UK', 'Dan', 'Canad', 'murder', 'heart', 'giving', 'War', 'Phone', 'physical', 'Have', 'none', 'command', 'GO', 'Ed', 'ATF', 'ver', 'starting', 'hate', 'trouble', 'request', 'genocide', 'More', 'former', 'Let', 'supply', 'letter', 'countries', 'chips', \"O'Dwyer\", 'extra', 'costs', 'room', 'commercial', 'atheists', 'Unfortunately', 'See', 'PS', \"Let's\", 'Cambridge', 'CPU', 'plus', 'neither', 'enforcement', 'development', 'author', 'unit', 'received', 'range', 'tax', 'safety', 'respect', 'office', 'hands', 'agents', 'white', 'member', 'approach', 'InReplyTo', 'teams', 'material', 'lower', 'evil', 'OS2', 'Earth', 'published', 'generally', 'avoid', 'authority', 'People', 'House', 'Europe', 'poor', 'pass', 'handle', 'described', 'decision', 'Only', 'DC', 'pick', 'names', 'held', 'floppy', 'earlier', 'define', 'Los', 'Information', 'Congress', 'decide', '500', 'turned', 'requires', 'indeed', 'road', 'party', 'caused', 'behavior', 'NSA', 'Gordon', 'environment', 'effective', 'beginning', 'NHL', 'Germany', 'page', 'contains', 'Case', 'writing', 'voice', 'obviously', 'age', 'Soviet', 'possibly', 'MYERS', 'Jeff', 'prevent', 'defense', 'Islam', 'receive', 'calls', 'beliefs', 'Lord', 'King', 'watch', 'stay', 'minutes', 'fairly', 'effort', 'date', 'convert', 'arguments', 'YOU', 'Second', 'Larry', 'supports', 'de', 'proof', 'national', 'fit', 'entry', 'somewhere', 'playing', 'majority', 'Thus', 'kept', 'intended', 'font', 'disks', 'ability', 'played', 'Morality', 'thread', 'thanks', 'somebody', 'increase', 'homosexuality', 'final', 'equipment', 'Two', 'Again', '3D', 'library', 'Stephen', 'PO', 'International', 'Data', 'soldiers', 'ne', 'false', 'closed', 'charge', 'IN', 'pages', 'becaus', 'UNIX', 'Turks', 'Ohio', 'OR', '1991', 'products', 'ma', 'launch', 'Anyway', 'beyond', 'anonymous', 'VGA', 'South', 'MD', 'share', 'keyboard', '33', 'types', 'title', 'colors', 'Administrator', '44', 'talkreligionmis', 'internal', 'developed', 'produce', 'patients', 'finally', 'warrant', 'sites', 'official', 'als', 'allows', 'protection', 'particularly', 'kno', 'errors', 'concerned', 'changes', 'merely', 'andor', 'Government', 'tools', 'setting', 'excellent', 'activities', 'Ron', 'Charles', 'notice', 'imagine', 'claimed', 'Look', 'x', 'entirely', 'vote', 'suggestions', 'straight', 'fonts', 'failed', 'William', \"What's\", 'technical', 'regarding', 'privacy', 'pain', 'spend', 'recall', 'percent', 'organization', 'natural', 'civil', 'aware', 'sold', '90', 'secret', 'resources', 'meant', 'hot', 'effects', '1990', 'trade', 'switch', 'noticed', 'abortion', 'East', 'secure', 'proper', 'actual', 'March', \"'\", 'widget', 'option', 'mass', 'greatly', 'draw', 'buying', 'articles', 'Ray', 'towards', 'suppose', 'prefer', 'friends', 'expensive', 'Division', 'trust', '34', 'woman', 'safe', 'risk', 'perfect', 'Hello', 'Angeles', 'count', 'Our', 'Great', 'Although', '45', 'sexual', 'respond', 'picture', 'Daniel', 'versions', 'search', 'moment', 'fight', 'Other', 'Mary', 'standards', 'responsibility', 'league', 'Office', 'supported', 'judge', 'fair', 'dealer', 'Contact', 'station', 'sorry', 'logic', 'bunch', 'atheist', 'Reserve', 'Both', 'step', 'statements', 'shown', 'selling', 'direct', 'analysis', 'West', 'Ryan', 'Like', 'town', 'provides', 'property', 'expected', 'committed', 'According', 'ALL', 'paid', 'Gateway', 'Arabs', 'tw', 'regular', 'kids', 'concept', 'battery', 'Those', 'trial', 'moving', 'latest', 'energy', \"You're\", 'son', 'multiple', 'features', 'Therefore', 'Cleveland', 'mostly', 'morning', 'driving', 'copies', 'admit', \"I'\", 'impossible', 'fun', 'conclusion', 'HD', 'Greg', 'British', 'Azerbaijan', 'slow', 'significant', 'seeing', 'muc', 'easier', 'agencies', 'Medical', 'Jack', 'Argic', 'Alan', '408', 'social', 'disagree', 'seriously', 'prices', 'passed', 'mother', 'block', 'PGP', 'Kevin', 'piece', 'frankD012S658uucp', 'Phil', 'Group', 'ride', 'references', 'ho', 'added', 'thos', 'shoul', 'hole', 'MSG', 'showed', 'possibility', 'modern', 'Mar', '70', 'shipping', 'properly', 'options', 'lose', 'greater', 'atheism', 'accepted', 'stick', 'heat', 'goo', 'bear', '41', 'signal', 'orbit', 'follows', 'fear', 'compared', 'Clayton', 'Austin', 'tim', 'tend', 'print', 'fax', 'apparently', 'answers', 'Health', 'Bell', 'table', 'seemed', 'putting', 'loss', 'independent', 'NewsSoftware', 'BMW', '050', 'wire', 'doctor', 'coul', 'Corporatio', '150', 'totally', 'role', 'mos', 'eyes', 'Chip', 'weight', 'throw', 'operation', 'forces', 'drop', 'dangerous', 'calling', 'argue', 'Tel', 'Jason', 'Islamic', 'European', 'Davidians', 'Administration', 'upgrade', 'born', 'Russia', 'Power', 'Don', 'larger', 'considering', 'billion', 'Yet', 'VAXVMS', 'Press', 'Macintosh', 'Digital', 'Bruce', 'pp', 'instance', 'defined', 'criminals', 'attention', 'assuming', 'advantage', 'PL8', '1988', 'middle', 'immediately', 'fix', 'determine', 'afraid', 'Rob', 'Noise', 'Henry', 'separate', 'owners', 'et', 'causes', 'anywhere', 'absolute', 'Was', 'Motorola', 'Hell', 'spent', 'potential', 'forward', 'escrow', 'discuss', 'clock', 'bein', 'tool', 'round', 'equal', 'absolutely', 'Remember', 'BIOS', '75', 'released', 'mission', 'creation', 'alternative', 'Yeah', 'Scienc', 'Manager', 'Ford', 'Black', '250', 'thousands', 'popular', 'install', 'bill', 'Version', 'Green', '1000', 'suc', 'serazumaUUCP', 'damage', 'cult', 'OS', 'Mail', 'taxes', 'highly', 'valid', 'document', 'Sure', 'Right', 'Last', 'Free', 'won', 'ready', 'guest', 'functions', 'eternal', 'degree', 'believed', 'beat', 'Hey', 'studies', 'purchase', 'motherboard', 'models', 'leaders', 'fully', 'escape', 'armed', 'Michigan', 'Carnegie', 'Branch', 'Big', 'purposes', 'individuals', 'activity', \"Who's\", 'Help', 'programming', 'objects', 'Its', 'vehicle', 'recognize', 'measure', 'mailing', 'heaven', 'dog', 'criminal', 'additional', 'Question', 'Lab', 'Kent', 'Constitution', 'student', 'missing', \"it'\", 'clutch', 'alive', 'accurate', 'MIT', 'Cramer', 'traffic', 'status', 'resolution', 'quick', 'innocent', 'external', 'everybody', 'Try', 'Jose', 'watching', 'transfer', 'minority', 'firearms', 'Support', 'Spencer', 'Departmen', '42', 'specifically', 'sky', 'luck', 'humans', 'distribution', 'compare', 'AIDS', 'rates', 'parents', 'connection', 'Need', 'Andy', 'training', 'bodies', 'ball', 'Banks', 'tells', 'store', 'satellite', 'onto', 'becomes', 'Radio', 'Plus', 'ISA', 'Holocaust', 'somethin', 'self', 'replace', 'license', 'direction', 'conference', 'Tony', 'sick', 'sam', 'quickly', 'proposed', 'nearly', 'load', 'begin', 'became', 'ahead', 'Urban', 'Adam', '256', 'telling', 'starts', 'somewhat', 'race', 'older', 'lie', 'international', 'eye', 'communications', 'NEC', 'yesterday', 'roads', 'random', 'noise', 'formats', 'feet', 'Sunday', 'Federal', 'English', 'Call', 'sign', 'reach', 'pointed', 'nation', 'interpretation', 'correctly', 'cancer', 'boards', 'BC', 'responses', 'nobody', 'limit', 'industry', 'Francisco', 'religions', 'proposal', 'electronic', 'division', 'definitely', 'VNEWS', 'PD', 'Morris', 'Laboratory', 'June', 'tank', 'fee', 'compatible', 'began', 'X11R5', 'Very', 'Too', 'Steven', 'Drive', 'ADL', 'worst', 'sa', 'positive', 'moved', 'messages', 'flame', 'develop', 'attacks', 'usenetnewscsouiucedu', 'setup', 'pressure', 'crypto', 'complex', 'clean', 'Jehovah', 'obtain', 'keeping', 'connected', 'clipper', 'blame', 'agency', 'Vancouver', 'Denver', 'worry', 'suggested', 'slightly', 'refer', 'ove', 'la', 'followed', 'explanation', 'compression', 'client', 'cheaper', 'center', 'replaced', 'judgement', 'doe', 'contain', 'character', '38', 'review', 'parties', 'opportunity', 'lived', 'leads', 'helps', 'conditions', 'century', 'carried', 'capable', 'brain', 'attitude', 'History', 'Catholic', '51', 'wide', 'waste', 'somehow', 'remain', 'offers', 'listen', 'gotten', 'existing', 'education', 'economic', 'documentation', 'default', 'changing', 'Volume', 'Thi', 'Their', 'Should', 'Honda', 'DO', 'regard', \"one's\", 'curious', 'OpenWindows', 'Nick', 'Jew', 'ATT', '400', 'remote', 'minute', 'feeling', 'computers', 'Quadra', 'Colleg', 'ATI', 'truly', 'troops', 'thank', 'meet', 'levels', 'knowing', 'exact', 'IT', 'Father', 'waiting', 'typical', 'toward', 'sandviknewtonapplecom', 'punishment', 'personally', 'noted', 'manner', 'letters', 'defend', 'deaths', '49', 'usual', 'sides', 'relationship', 'mistake', 'firs', 'double', 'digital', 'circuit', 'bet', 'Young', 'Nazi', 'Edward', 'Amendment', 'weapon', 'quoted', 'officers', 'jobs', 'g', 'examples', 'differen', 'consistent', 'active', 'ON', 'Be', 'showing', 'missed', \"Here's\", 'ESPN', 'xterm', 'villages', 'twice', 're', 'methods', 'id', 'hour', 'export', 'cold', 'broken', 'Wayne', 'Ted', 'Rochester', 'Professor', 'Montreal', 'Ma', 'MB', 'IMHO', 'Allen', 'threat', 'hurt', 'fuel', 'debate', 'Marc', 'Communication', 'welcome', 'topic', 'thoughts', 'sets', 'session', 'scheme', 'marriage', 'felt', 'father', 'depends', 'acceptable', 'True', 'Al', 'temperature', 'shots', 'riding', 'organizations', 'fil', 'factor', 'blue', 'Davis', 'Atlanta', 'wor', 'speech', 'remove', 'reaction', 'ran', 'opposed', 'lies', 'led', 'eventually', 'dollars', 'button', 'Voice', 'Number', '61', 'syste', 'surface', 'strange', 'speaking', 'raise', 'monitors', 'leader', 'forced', 'conflict', 'archive', 'altatheismtalkreligionmisctalkorigin', 'acts', 'Son', 'Martin', 'CDROM', 'Brad', 'smaller', 'reduce', 'recommend', 'gay', 'describe', 'London', 'Engineerin', 'wall', 'reliable', 'presented', 'ow', 'huge', 'followers', 'fixed', 'associated', 'art', 'Mellon', 'Get', '24bit', 'tradition', 'saved', 'frame', 'fault', 'cross', 'Turk', 'Gun', 'Grou', 'Before', 'tanks', 'nuclear', 'meg', 'kinds', 'ensure', 'claiming', 'background', 'authorities', 'Blue', 'turns', 'translation', 'resource', 'radar', 'mus', 'magazine', 'length', 'homosexuals', 'gods', 'differences', 'cops', 'caught', 'Policy', 'Palestinian', 'talkabortionaltatheismtalkreligionmis', 'red', 'male', 'hearing', 'floor', 'fe', 'extremely', 'experiences', 'doctrine', 'detail', 'Technical', 'Project', 'Him', 'ES', 'Detroit', 'Albert', 'tests', 'stil', 'persons', 'militia', 'hardly', 'guilty', 'established', 'assumption', 'anymore', 'Santa', 'Ltd', 'Greece', '48', '000', 'stopped', 'seconds', 'readers', 'poster', 'occur', 'items', 'governmen', 'evolution', 'discovered', 'ad', 'Stanford', 'Price', 'NJ', 'Leafs', 'withou', 'success', 'structure', 'path', 'moon', 'encrypted', 'eat', 'civilians', 'afte', 'Louis', 'Holy', 'Express', 'thinks', 'raised', 'plans', 'learned', 'governments', 'foreign', 'fighting', 'doctors', 'Wings', 'Christopher', 'wher', 'perfectly', 'penalty', 'initial', 'employer', 'drawing', 'description', 'bytes', 'basically', 'assault', 'Today', 'Man', \"He's\", 'shooting', 'relevant', 'prior', 'officials', 'gain', 'fail', 'domain', 'concern', 'betwee', \"We're\", 'Douglas', 'summer', 'street', 'pull', 'parallel', 'named', 'eac', 'e', 'damn', 'benefit', 'administration', 'UUCP', 'Seattle', 'surprised', 'patient', 'observations', 'listed', 'leading', 'distance', 'circumstances', 'agains', 'ROM', 'Patrick', 'Page', 'Davidian', 'Braves', '36', 'usin', 'sleep', 'pictures', 'papers', 'ignore', 'extermination', 'essentially', 'Times', 'Purdue', 'Open', 'HST', 'Centris', 'Bosnian', 'ANY', '65', '43', 'rid', 'postings', 'mak', 'lists', 'goals', 'finding', 'documents', 'clients', 'budget', 'Word', 'Make', 'Institut', 'Besides', 'Amiga', '55', '070', 'shell', 'powerful', 'passes', 'normally', 'latter', 'holding', 'historical', 'happening', 'Image', 'Given', 'Fred', 'Columbia', '386', 'sitting', 'quit', 'menu', 'justice', 'internet', 'heavy', 'discussed', 'convince', 'comparison', 'abuse', 'Use', 'Source', 'Canadian', 'Bush', '1989', \"'93\", 'walk', 'throug', 'hel', 'com', 'border', 'befor', 'UN', 'Regards', 'Phill', 'Lewis', 'High', 'AD', 'visual', 'violence', 'strongly', 'righ', 'processing', 'neve', 'increased', 'generation', 'culture', 'HELP', 'Bu', 'Bosnia', 'Australia', '800', '486', 'talks', 'talkpoliticsmis', 'sinc', 'reasoning', 'paying', 'fired', 'familiar', 'crimes', 'SCSI2', 'Rangers', 'Livesey', 'Each', 'Book', 'AM', 'vitamin', 'sufficient', 'relatively', 'placed', 'movement', 'intelligence', 'fin', 'demand', 'connect', 'boxes', 'bi', 'attempts', 'Satan', 'Maryland', 'Lawrence', 'Laborator', 'Cup', 'wiretap', 'volume', 'terminal', 'stream', 'pin', 'offered', 'mountain', 'minor', 'desire', 'X11', 'Ten', 'Post', 'Hope', 'summary', 'situations', 'services', 'region', 'providing', 'playoffs', 'ok', 'matters', 'location', 'equivalent', 'content', 'colour', 'checked', 'cache', 'La', 'stories', 'operations', 'legitimate', 'hitting', 'Sternlight', 'Society', 'Florida', 'Diego', 'winning', 'tear', 'primary', 'pitcher', 'packages', 'occurs', 'liveseysolntzewpdsgicom', 'ice', 'funds', 'discussions', 'char', 'announced', 'Street', 'OH', 'Info', 'Committee', 'sentence', 'reall', 'decent', 'carrying', 'bottom', 'afford', 'Take', 'Perry', 'Kuwait', '1920', 'victims', 'track', 'score', 'plain', 'loaded', 'dealing', 'covered', 'configuration', 'army', 'Read', 'Philadelphia', 'PL9', 'Hall', 'EISA', 'Company', 'weak', 'visible', 'tested', 'students', 'solid', 'sending', 'removed', 'rear', 'implementation', 'diet', 'di', 'contrary', 'Such', 'Ontario', 'NEWS', 'HIV', '64', 'stats', 'star', 'spending', 'shareware', 'sample', 'proven', 'meeting', 'maintain', 'lights', 'justify', 'feature', 'despite', 'Walker', 'Video', 'THIS', 'Someone', 'Security', 'Road', 'Rick', 'Matt', 'Jonathan', 'Jerusalem', 'Dale', 'Anderson', 'utility', 'suffering', 'statistics', 'rape', 'produced', 'immoral', 'holes', 'favor', 'career', 'Unless', 'Private', 'Home', 'Day', 'Craig', 'Car', 'wan', 'replies', 'procedure', 'investigation', 'heads', 'edge', 'destroyed', 'confused', 'communication', 'backup', 'accident', 'Program', 'Miller', 'IO', 'Ann', 'telephone', 'suicide', 'sal', 'rea', 'protected', 'littl', 'host', 'highest', 'applied', 'accuracy', 'Spirit', 'List', 'During', 'virtual', 'remains', 'relative', 'quotes', 'match', 'excuse', 'bother', 'boot', 'bible', 'MSDOS', 'Finally', 'Elohim', 'sig', 'proceeded', 'indicate', 'distributed', 'cities', 'chose', 'WAS', 'Shuttle', 'Seems', 'Ok', 'Hockey', 'Gaza', 'About', 'style', 'standing', 'shape', 'principle', 'ports', 'panel', 'ourselves', 'operating', 'newsgroups', 'modes', 'manage', 'join', 'funny', 'bette', 'believes', 'automatic', 'Rights', 'Johnson', 'III', 'Every', 'EMail', 'subjective', 'sai', 'printing', 'officer', 'notion', 'neutral', 'login', 'lock', 'literature', 'honest', 'handling', 'enter', 'editor', 'citizen', 'apart', 'addresses', 'Palestinians', 'Old', 'Nothing', 'MY', 'Development', 'Clark', 'Cheers', 'Best', 'village', 'scientists', 'regardless', 'purchased', 'met', 'libraries', 'involve', 'fields', 'efforts', 'Physics', 'Iran', 'Inreplyto', 'Hard', \"BD's\", '46', 'variety', 'units', 'understood', 'throughout', 'medicine', 'logical', 'lo', 'helped', 'database', 'Without', 'PL', 'OT', 'Lebanon', 'LC', 'Army', 'AL', 'wiring', 'violent', 'surprise', 'scale', 'recommended', 'reached', 'originally', 'music', 'infection', 'connector', 'commands', 'burned', 'audio', 'agent', 'Using', 'Tech', 'RSA', 'Ottoman', 'Kenneth', 'July', 'Electronic', 'Control', '600', '37', 'worship', 'warning', 'unto', 'shared', 'routines', 'processor', 'primarily', 'item', 'henryzootorontoedu', 'explained', \"can'\", 'believ', 'animals', 'Testament', 'Pro', 'Part', 'Newsletter', 'Math', 'League', 'File', 'Diamond', 'Biblical', '120', 'sit', 'obtained', 'generate', 'flames', 'figures', 'experts', \"doesn'\", 'convinced', 'continued', 'careful', 'assertion', 'Winnipeg', 'Nazis', 'Ames', 'target', 'referred', 'pitch', 'ordered', 'interests', 'impression', 'imply', 'echo', 'depending', 'conversion', 'bikes', 'assumed', 'Tin', 'Serbs', 'Political', 'Looking', 'Anybody', '71', '060', '05', 'poste', 'planning', 'mouth', 'management', 'mainly', 'improve', 'fundamental', 'forms', 'driven', 'concerning', 'committee', 'arm', 'Virginia', 'Virgini', 'Obviously', 'Microsystems', 'Jr', 'Intel', 'Indiana', 'Houston', 'Electrical', 'December', 'Carl', 'Aaron', 'ticket', 'symptoms', 'supposedly', 'shoot', 'sales', 'sad', 'requirements', 'probabl', 'phones', 'passage', 'paragraph', 'nations', 'mad', 'leaving', 'lay', 'importance', 'grace', 'displays', 'birth', 'bigger', 'automatically', 'applies', 'agreement', 'Xt', 'Send', 'PostScript', 'MHz', 'Instead', 'HewlettPackard', '85', '1919', \"'92\", 'widgets', 'wel', 'taught', 'suggestion', 'soul', 'represents', 'referring', 'organized', 'incident', 'fails', 'classified', 'bug', 'beings', 'transmission', 'stuck', 'scored', 'planet', 'migh', 'forever', 'burning', 'aspects', 'SGI', 'RIPEM', 'Council', 'Adams', 'swap', 'storage', 'stands', 'spot', 'solar', 'shop', 'served', 'raid', 'physics', 'gebcspittedu', 'elsewhere', 'driv', 'dark', 'cryptography', 'charges', 'carefully', 'belong', 'Y', 'Team', 'Mormon', 'Later', 'LORD', 'Boulde', '95', 'unlikely', 'stored', 'silly', 'shut', 'prepared', 'plug', 'negative', 'mechanism', 'link', 'impact', 'hospital', 'helpful', 'decisions', 'appeared', 'Sony', 'Sometimes', 'Reno', 'Luke', 'Central', '56', 'visit', 'unde', 'touch', 'teach', 'tapes', 'repeat', 'plenty', 'planned', 'paint', 'offense', 'morals', 'manufacturers', 'enjoy', 'deserve', 'deep', 'containing', 'Star', 'Probably', 'Japanese', 'Check', 'Apparently', '00', 'zero', 'y', 'wheel', 'wear', 'verses', 'verse', 'spread', 'schools', 'represent', 'pitching', 'non', 'managed', 'guarantee', 'failure', 'existed', 'ends', 'detector', 'convention', 'clh', 'chosen', 'affect', 'XView', 'Time', 'ME', 'Lake', 'February', 'Calgary', 'CNN', 'Buffalo', 'useless', 'unable', 'sun', 'shit', 'questio', 'predictions', 'picked', 'phrase', 'overall', 'oname', 'movie', 'lying', 'graphic', 'glad', 'frequently', 'extension', 'degrees', 'daily', 'crazy', 'closer', 'biggest', 'Sox', 'Sciences', 'SALE', 'Park', 'Massachusetts', 'Human', 'Brown', 'Baltimore', '59', '110', 'theories', 'returned', 'performed', 'nee', 'grant', 'crowd', 'brand', 'believing', 'aid', 'Okay', 'Kings', 'Electronics', 'Bruins', 'BD', 'Anthony', 'Am', 'wins', 'voltage', 'treated', 'push', 'positions', 'instructions', 'funding', 'credit', 'buffer', 'WILL', 'SIMMs', 'Police', 'Minnesota', 'Lebanese', \"Israel's\", 'Astronomy', '54', 'xSoviet', 'wars', 'v', 'shift', 'seek', 'observed', 'motorcycle', 'map', 'gonna', 'flat', 'college', 'brother', 'bot', 'Van', 'Pens', 'Out', 'Next', 'Murray', 'Indeed', 'Hebrew', 'Dennis', 'Davi', 'Conference', '8bit', '32bit', '3000', 'techniques', 'surely', 'stage', 'president', 'neighbors', 'mirror', 'maximum', 'lucky', 'intent', 'ancient', 'Yo', 'Theory', 'Sounds', 'Pete', 'Mars', 'Malcolm', 'Hitler', 'Greeks', 'Graham', '2419760', 'testing', 'survivors', 'string', 'reverse', 'resistance', 'green', 'fly', 'elements', 'dont', 'cycle', 'converter', 'conversation', 'checking', 'app', 'answered', 'Randy', 'AC', 'talked', 'split', 'significantly', 'rocket', 'ridiculous', 'reflect', 'records', 'master', 'massacre', 'mark', 'informatio', 'helmet', 'fool', 'fill', 'broke', 'Still', 'ONLY', 'Karl', 'Hopkins', 'Friday', 'Board', 'wearing', 'thrown', 'select', 'root', 'opened', 'offensive', 'millions', 'installation', 'hundreds', 'hitter', 'goin', 'burn', 'anyon', 'Palestine', 'Ohanus', 'Jones', \"Isn't\", 'Gay', 'DEC', 'viewer', 'usage', 'sports', 'speeds', 'skin', 'reduced', 'presence', 'perspective', 'numerous', 'notes', 'leas', 'lab', 'firearm', 'exchange', 'determined', 'controlled', 'catch', 'announcement', 'VERY', 'NNTP', 'Everyone', 'Chuck', 'Centre', 'Barry', '39', 'zone', 'violation', 'treat', 'slower', 'shuttle', 'scripture', 'resulting', 'previously', 'policies', 'perform', 'keeps', 'harm', 'finish', 'expansion', \"didn'\", 'destroy', 'danger', 'da', 'contract', 'components', 'battle', 'Xlib', 'Todd', 'Sandvik', 'Otherwise', 'NC', 'Mik', 'Me', 'Jerry', 'Being', 'Allan', 'Ah', '81', '52', 'truck', 'territory', 'settings', 'seat', 'rock', 'rational', 'propaganda', 'production', 'playoff', 'plane', 'listening', 'ignorance', 'frequency', 'effectively', 'economy', 'duty', 'characters', 'channel', 'apartment', 'Think', 'Stev', 'Stanley', 'Ottawa', 'Justice', 'Gm', 'Divisio', 'Asking', 'traded', 'technique', 'successful', 'solve', 'registration', 'reasonably', 'rathe', 'plastic', 'observation', 'neede', 'manuals', 'guide', 'feed', 'ethnic', 'developing', 'deny', 'converted', 'blind', 'authors', 'aka', 'agreed', 'Type', 'Having', 'Guy', 'Clock', 'Carolina', 'Basically', 'August', '82', '1982', 'widely', 'tube', 'spacecraft', 'married', 'mac', 'justification', 'forgot', 'exercise', 'describes', 'dealers', 'core', 'commit', 'chain', 'brake', 'adding', 'Whether', 'Timothy', 'Suppose', 'Senate', 'Questions', 'PT', 'Key', 'Israelis', 'IF', 'Code', 'Co', 'Article', 'Argi', 'teaching', 'smoke', 'lin', 'identical', 'formed', 'extended', 'daughter', 'continues', 'compute', 'auto', 'apps', 'adapter', 'accessdigexne', 'VLB', 'SunOS', 'Study', 'Southern', 'Roy', 'Lost', 'Harvard', 'Genocide', 'Game', 'Ethernet', 'England', 'Dick', 'Baseball', 'Appressian', 'Adobe', 'Account', \"'em\", 'yeah', 'wise', 'university', 'tel', 'sur', 'stock', 'opposite', 'las', 'hoping', 'gear', 'famous', 'factors', 'destruction', 'crameroptilinkCOM', 'collection', 'aside', 'anythin', 'anothe', 'allowing', 'XV', 'TIFF', 'Standard', 'SCSI1', 'RE', 'ONE', 'Media', 'Furthermore', 'Everything', 'CAN', 'BE', 'terrorist', 'sins', 'printed', 'pray', 'learning', 'issued', 'gravity', 'focus', 'equally', 'dat', 'compile', 'bank', 'ass', 'apparent', \"They're\", 'Library', 'Jake', 'ID', 'Harry', 'Dean', 'Card', 'Bank', '1983', 'update', 'tonight', 'stolen', 'spirit', 'soccultureturkis', 'simpl', 'servers', 'projects', 'practical', 'ignorant', 'fellow', 'f', 'crash', 'civilian', 'capability', 'becoming', 'batteries', 'attached', 'VESA', 'Truth', 'Several', 'Really', 'Rawlins', 'Netcom', 'Memorial', 'Linux', 'Jackson', 'Australi', '66', 'tough', 'r', 'proble', 'nonsense', 'minds', 'mile', 'drink', 'depth', 'cop', 'conversations', 'compromise', 'baby', 'attacked', 'TX', 'Sean', 'NRA', 'NOTE', 'Jet', 'Iowa', \"I'v\", 'Design', 'Carter', 'Azerbaijani', 'Association', \"'We\", 'supporting', 'superior', 'staff', 'powers', 'hypothesis', 'favorite', 'discussing', 'cursor', 'bugs', 'Wisconsin', 'Win', 'Simon', 'Sahak', 'Rich', 'Melkonian', 'Life', 'Freeman', 'Expires', 'Chemistry', 'Advanced', '198', \"'In\", 'vision', 'till', 'sorts', 'sake', 'puck', 'pm', 'pixel', 'percentage', 'occupied', 'laser', 'joke', 'irrelevant', 'informed', 'holds', 'enoug', 'critical', 'consideration', 'conclude', 'colormap', 'bullet', 'ban', 'THAT', 'Sale', 'Russell', 'Memory', 'Jan', 'CONVEX', '73', 'ye', 'wave', 'terrorists', \"soul'\", 'rich', 'refuse', 'pts', 'practices', 'philosophy', 'owned', 'mathewmantiscouk', 'liar', 'indicates', 'forth', 'extent', 'drawn', 'conclusions', 'bomb', 'Ultra', 'Sumgait', 'SVGA', 'Empire', 'Duo', 'DMA', 'Atheists', 'workstation', 'slot', 'ship', 'sh', 'routine', 'newer', 'jump', 'houses', 'generated', 'foot', 'engines', 'en', 'depend', 'corner', 'constant', 'coach', 'cipher', 'capabilities', 'Zoolog', 'Tommy', 'Server', 'Scripture', 'Saturday', 'Romans', 'Party', 'None', 'Master', 'Jays', 'HICNet', 'Gant', 'Bay', '030', 'universal', 'thre', 'surrender', 'spring', 'slaughter', 'promise', 'patch', 'motion', 'measures', 'manufacturer', 'limits', 'husband', 'finished', 'fa', 'exception', 'engineering', 'detect', 'creating', 'concerns', 'clinical', 'byte', 'Were', 'VA', 'Sweden', 'Never', 'Jets', 'Janet', 'Freedom', 'Devils', 'Attorney', '76', '610', 'watched', 'tires', 'tak', 'solutions', 'refused', 'reads', 'permission', 'odd', 'newspaper', 'newsanatoliaor', 'metal', 'mask', 'liberal', 'leadership', 'entries', 'cool', 'complicated', 'calle', 'blah', 'besides', 'batting', 'amendment', 'admin', 'achieve', 'Thursday', 'Secretary', 'Sci', 'Sam', 'SPACE', 'Name', 'NULL', 'Monday', 'Francis', 'Disk', 'Certainly', 'Bobby', 'Back', '900', '350', '130', 'trick', 'tap', 'suffer', 'signs', 'signals', 'severe', 'replacement', 'pulled', 'protocol', 'miss', 'flow', 'fac', 'essential', 'encryptio', 'eating', 'director', 'consequences', 'classes', 'band', 'bac', 'Studies', 'Salt', 'Rather', 'Personally', 'Oracle', 'Messiah', 'Japan', 'French', 'Flight', 'Education', 'Berkeley', 'Arizona', 'ARE', '78', '1986', 'wonderful', 'suppor', 'strike', 'softwar', 'reject', 'prophecy', 'principles', 'plate', \"people's\", 'jakebony1bonycom', 'hide', 'fund', 'fell', 'extreme', 'doors', 'defensive', 'compressed', 'closely', 'cares', 'actuall', 'YOUR', 'Opinions', 'Mouse', 'Love', 'Livni', \"Koresh's\", 'Journal', 'FPU', 'Acts', '58', 'turning', 'tapped', 'suggests', 'specs', 'pieces', 'permanent', 'par', 'origin', 'occupation', 'mathew', 'humanity', 'fallacy', 'electronics', 'drag', 'dollar', 'capital', 'blow', 'assistance', 'accounts', 'UT', 'Long', 'Islanders', 'Hughes', 'Give', 'Color', 'Bil', '53', 'stat', 'spoke', 'rely', 'recognized', 'portion', 'parent', 'modified', 'math', 'located', 'ke', 'experiment', 'detailed', 'combination', 'causing', 'Special', 'Propulsion', 'Peace', 'Guide', 'GMT', 'Court', 'CAL', 'Baku', 'Andre', '57', '415', \"''\", 'traditional', 'sea', 'legally', 'introduced', 'interpret', 'ignored', 'filled', 'establish', 'ended', 'empty', 'dictionary', 'controls', 'chances', 'challenge', 'cells', 'burden', 'approved', 'acid', 'Utah', 'Union', 'Rose', 'Quebec', 'PL6', 'Norton', '700', '1987', 'wind', 'weekend', 'utilities', 'suffered', 'scientist', 'progra', 'plays', 'pattern', 'passing', 'online', 'occurred', 'meaningless', 'losing', 'les', 'instruction', 'improvement', 'hence', 'dying', 'cultural', 'crap', 'breaking', 'bound', 'awful', 'availabl', 'amounts', 'algorithms', 'WIN', 'Suite', 'Roman', 'Mitchell', 'Fo', 'CO', 'Brent', 'BOS', 'yeast', 'wisdom', 'viewing', 'temporary', 'supporters', 'selected', 'puts', 'precisely', 'pair', 'orders', 'harder', 'flight', 'dropped', 'draft', 'dogs', 'dispute', 'aroun', 'XDisclaimer', 'X11R4', 'VRAM', 'Stratus', 'Networ', 'Gerald', 'Flames', 'Azeri', '84', '47', '100000', '06', 'witness', 'unlike', 'tired', 'startup', 'spec', 'sp', 'register', 'pushed', 'opening', 'numbe', 'nose', 'motor', 'l', 'huma', 'dow', 'dos', 'denied', 'democracy', 'demo', 'boy', 'bitmap', 'arrest', 'affected', 'Wright', 'Saturn', 'PIT', 'Iraq', 'Grant', 'Come', 'Brett', 'BURNS', 'ABC', '63', 'votes', 'unusual', 'threw', 'stupidity', 'socalled', 'propose', 'progress', 'platforms', 'optional', 'implemented', 'hits', 'edition', 'discrimination', 'curren', 'chemical', 'animal', 'Tuesday', 'Tell', 'Tektronix', 'Rushdie', 'Richardson', 'Regional', 'REALLY', 'Message', 'De', 'Daily', 'Adaptec', 'AB', '72', 'whenever', 'vehicles', 'variable', 'valuable', 'updated', 'unix', 'stable', 'slave', 'signed', 'sector', 'screw', 'purely', 'okay', 'objectively', 'neighbor', 'mistakes', 'liked', 'kid', 'j', 'influence', 'incorrect', 'implement', 'freely', 'entered', 'department', 'concrete', 'comparable', 'attempting', 'aspect', 'arguing', 'Wilson', 'Vol', 'Venus', 'Stan', 'Josh', 'Either', 'Currently', 'Cancer', 'Bullock', 'Ask', '79', 'wires', 'virtually', 'trip', 'tie', 'taste', 'strnlghtnetcomcom', 'sometime', 'regularly', 'receiving', 'rare', 'printers', 'possibl', 'networks', 'loop', 'fourth', 'flying', 'disciples', 'clone', 'charged', 'camera', 'behaviour', 'beating', 'bar', 'balls', 'bag', 'arrived', 'approximately', 'absurd', 'Williams', 'VMS', 'Simple', 'Scientific', 'Schneider', 'Reference', 'RANCH', 'R5', 'Neither', 'Labs', 'Hal', 'Genesis', 'FILE', 'Evans', 'Cobb', 'Better', 'Austi', 'Act', '01', 'vary', 'tower', 'task', 'strip', 'specify', 'speaker', 'smart', 'sensitivity', 'scoring', 'repeated', 'proved', 'politics', 'passages', 'partners', 'ol', 'murdered', 'minimum', 'lets', 'lawyer', 'injury', 'identify', 'hidden', 'header', 'hatred', 'granted', 'finger', 'disclaimer', 'contest', 'clue', 'campaign', 'benefits', 'Toyota', 'Poster', 'Polytechnic', 'Le', 'Jersey', 'Hill', 'Gerard', 'BY', 'warranty', 'tea', 'stronger', 'shaft', 'reader', 'professional', 'mhz', 'membership', 'laugh', 'intend', 'implies', 'horrible', 'feels', 'efficient', 'ed', 'dept', 'candidates', 'candida', 'Victoria', 'Third', 'Technologies', 'Sept', 'Par', 'Moon', 'Macs', 'LED', 'HE', 'Egypt', 'Comments', 'BS', 'AS', 'wild', 'terrible', 'revealed', 'restrictions', 'predict', 'portable', 'polygon', 'pins', 'nam', \"man's\", 'legislation', 'kingdom', 'entitled', 'element', 'dream', 'converting', 'conspiracy', 'confusion', 'component', 'binary', 'biased', 'bases', 'appeal', 'amp', 'TCPIP', 'OPEN', 'NL', 'NEW', 'Mexico', 'Medicine', 'Major', 'Keep', 'Jesu', 'HallamBaker', 'HAVE', 'Dear', 'CHI', 'AN', '62', '617', '286', \"'91\", 'yea', 'testimony', 'stone', 'someon', 'sequence', 'roughly', 'requested', 'repair', 'refers', 'prison', 'prayer', 'phase', 'paranoid', 'mess', 'leaves', 'kit', 'k', 'justified', 'junk', 'intellectual', 'infinite', 'greatest', 'els', 'electrical', 'elected', 'doin', 'comprehensive', 'complaints', 'complain', 'brings', 'blocks', 'atmosphere', \"ain't\", 'Wednesday', 'Though', 'PLEASE', 'Order', 'Nelson', 'Model', 'Men', \"Jesus'\", 'France', 'Feb', 'Edmonton', 'Defense', 'Christia', 'Blues', 'Alexander', '525', '310', '1980', '010', \"today's\", 'throwing', 'theism', 'steps', 'severa', 'selection', 'salvation', 'ring', 'privat', 'perio', 'participate', 'netnews', 'mutual', 'kmr4poCWRUedu', 'keyescrow', 'jon', 'intelligent', 'impressed', 'icon', 'grounds', 'giv', 'expression', 'electric', 'dozen', 'competition', 'cell', 'category', 'canno', 'builtin', 'attempted', 'assembly', 'asks', 'amazing', \"You'll\", 'UC', 'Test', 'Smit', 'Pasaden', 'NuBus', 'Heaven', 'Harvey', 'Giants', 'Foundation', 'Especially', 'Civil', 'Bryan', 'Boulder', 'Address', '92', '750', 'workers', 'vendors', 'travel', 'toolkit', 'suit', 'stereo', 'route', 'remark', 'remaining', 'regards', 'quiet', 'pure', 'preferred', 'pa', 'oo', 'injuries', 'immediate', 'grenades', 'figured', 'expert', \"else's\", 'crack', 'choices', 'alleged', 'Resource', 'Problem', 'Pennsylvania', 'October', 'Mass', 'Istanbul', 'Intelligence', 'DIVIDIAN', 'Cornell', 'writer', 'unknown', 'strictly', 'saves', 'rise', 'revelation', 'removing', 'proud', 'prophet', 'produces', 'opposition', 'observe', 'log', 'linked', 'inhabitants', 'improved', 'ideal', 'handguns', 'gospel', 'filter', 'evening', 'encourage', 'directed', 'abortions', 'Z', 'Samuel', 'SS', 'Researc', 'Religion', 'Pope', 'Oregon', 'January', 'EFF', 'DET', 'Ave', '88', '210', 'upset', 'unique', 'tire', 'territories', 'switches', 'survive', 'suitable', 'substance', 'stars', 'specified', 'spare', 'sc', 'registered', 'ra', 'pointing', 'platform', 'newsathenamited', 'letting', 'insert', 'indication', 'identified', 'handgun', 'gang', 'firm', 'fat', 'diseases', 'differently', 'concepts', 'compiled', 'churches', 'beer', 'angels', 'agenda', 'Series', 'Pittsburg', 'PA', 'NETCOM', 'Museum', 'Mets', 'Mario', 'GUI', 'Full', \"Doesn't\", 'Comp', 'Air', '020', '02', 'witnesses', 'whil', 'whatsoever', 'weather', 'vast', 'usenet', 'topics', 'survey', 'suddenly', 'realized', 'raw', 'pu', 'prediction', 'permit', 'parameters', 'ownership', 'loose', 'liberty', 'le', 'increases', 'idiot', 'forcing', 'foods', 'experienced', 'cobbalexialisuiucedu', 'atoms', 'arrogance', 'Water', 'WANTED', 'Veal', 'RISC', 'Mustang', 'Much', 'Engineer', 'End', 'Danny', 'Brother', 'Bradley', 'Area', 'Alomar', 'western', 'thou', 'teachings', 'stops', 'spac', 'rocks', 'rarely', 'procedures', 'packet', 'operate', 'inch', 'honor', 'holy', 'grow', 'fifth', 'exit', 'enemy', 'dreams', 'demonstrated', 'demonstrate', 'delivery', 'definitions', 'dbdurartusdpaorg', 'constitution', 'club', 'capacity', 'broadcast', 'balance', 'assumptions', 'Work', 'Thanx', 'Tavares', 'Sharks', 'SDPA', 'Programming', 'Kurds', 'Jay', 'Irvin', 'IRQ', 'Howard', 'Halat', 'Gregory', 'Gregg', 'Greenbelt', 'Final', 'Feds', 'Death', 'Covington', '68', '230', 'worried', 'tied', 'terrorism', 'signature', 'responded', 'reaso', 'ram', 'publi', 'pool', 'penalties', 'park', 'pack', 'outlets', 'nearby', 'mai', 'lunar', 'lon', 'growth', 'families', 'educational', 'desktop', 'contro', 'conservative', 'conduct', 'brief', 'analogy', 'alcohol', 'acting', 'TM', 'Syste', 'Student', 'Stewart', 'Sal', 'S1', 'Penn', 'Northern', 'Mountain', 'Machines', 'FROM', 'Bonds', '83', '77', 'victim', 'texts', 'substantial', 'sport', 'sells', 'schedule', 'scan', 'responding', 'researchers', 'relations', 'ratio', 'premise', 'max', 'kee', 'involves', 'havin', 'dry', 'delete', 'consent', 'confusing', 'concentrate', 'combined', 'bucks', 'appearance', 'WITH', 'Total', 'Theodore', 'TB', 'Personal', 'Nuntius', 'November', 'NYI', 'Middle', 'LOOK', 'Interne', 'Intergraph', 'HR', 'Equipment', 'Div', 'DCX', 'Available', 'Applied', 'Applications', 'Among', '1200', '04', 'typically', 'trials', 'timing', 'tends', 'tactics', 'strategy', 'probe', 'pixels', 'passenger', 'index', 'includin', 'hook', 'har', 'divine', 'commitment', 'chapter', 'cdtswstratuscom', 'cage', 'attacking', 'Supreme', 'Solar', 'Ro', 'Release', 'Products', 'Oklahoma', 'MR', \"It'\", 'Hmm', 'Da', 'Bitnet', 'Academic', 'workstations', 'whethe', 'versus', 'unfortunately', 'tomorrow', 'significance', 'serves', 'scope', 'saving', 'requests', 'relief', 'receiver', 'powe', 'plant', 'orientation', 'modems', 'materials', 'massive', 'homes', 'film', 'filename', 'fewer', 'contained', 'constantly', 'centuries', 'arithmetic', 'amateur', 'alot', 'advanced', 'academic', 'User', 'Three', 'Ther', 'Orthodox', 'Mission', 'Magazine', 'Little', 'Karabakh', 'IMO', 'Dallas', '1984', '1500', '125', 'wood', 'whol', \"that'\", 'tech', 'sink', 'secular', 'scores', 'scicrypt', 'priest', 'phenomenon', 'pe', 'native', 'initiative', 'infections', 'hea', 'gettin', 'frames', 'fits', 'finds', 'everywhere', 'election', 'eh', 'don', 'dis', 'describing', 'capture', 'bright', 'beast', 'Warren', 'V8', 'TT', 'SO', 'Remote', 'NEVER', 'Member', 'Maynard', 'Ira', 'Hmmm', 'Director', '86', '512', '4000', '1qvfik6rfusenetINSCWRUEdu', '1985', '101', 'windo', 'violated', 'train', 'tm', 'theists', 'surgery', 'sho', 'sheet', 'returns', 'rendering', 'regarded', 'ps', 'pro', 'patches', 'ordinary', 'nex', 'minorities', 'mileage', 'interview', 'exportlcsmitedu', 'explicitly', 'distinction', 'displayed', 'discharge', 'derived', 'central', 'cas', 'cal', 'approaches', 'annoying', 'animation', 'angle', 'accelerator', 'View', 'Universe', 'Turbo', 'SURVIVORS', 'Nobody', 'Lady', 'Judas', 'Israe', 'Gulf', 'Glenn', 'Force', 'Fischer', 'Einstein', 'EE', 'Dare', 'Cubs', \"Clinton's\", 'COM', 'Beyer', 'Arthur', 'AMA', 'AHL', '74', '69', 'writings', 'usenetmurdochaccVirginiaED', 'tries', 'thru', 'subjects', 'strength', 'stood', 'shame', 'recommendations', 'pulling', 'publicly', 'properties', 'processes', 'nothin', 'newsmagnusacsohiostateed', 'minimal', 'loved', 'literally', 'indicated', 'imag', 'huh', 'hopefully', 'hints', 'heck', 'grea', 'falls', 'convincing', 'conducted', 'commonly', 'bias', 'bandwidth', 'arrogant', 'Under', 'Taylor', 'Something', 'Silicon', 'SB', 'Roberts', 'Republic', 'Programs', 'Phillies', 'Novell', 'Nice', 'Moses', 'Jewis', 'Gerry', 'GA', 'Eastern', 'County', 'Conner', 'Beauchaine', 'whoever', 'walking', 'tree', 'tone', 'tobacco', 'television', 'teeth', 'successfully', 'sight', 'sensitive', 'sections', 'screwed', 'revolver', 'repeatedly', 'probability', 'patent', 'modify', 'maintained', 'larg', 'jumper', 'investment', 'increasing', 'hat', 'hair', 'girl', 'eithe', 'domestic', 'displa', 'curve', 'contribute', 'cited', 'cite', 'bes', 'bat', 'assumes', 'assert', 'Write', 'Week', 'Wanted', 'Super', 'Stealth', 'Station', 'Real', 'Product', 'Pacific', 'PDS', 'Original', 'Nor', 'Neil', 'Monitor', 'Melbourne', 'Includes', 'Imagine', 'Ian', 'INTERNET', 'IL', 'Hospital', 'Gene', 'GT', 'Further', 'Fox', 'Four', 'Faith', 'Cal', 'Bus', 'BUT', 'Admin', 'widespread', 'voting', 'vendor', 'tickets', 'surrounding', 'subscribe', 'submit', 'silence', 'sacrifice', 'ru', 'regardin', 'ray', 'profit', 'presumably', 'moves', 'keithccocaltechedu', 'invented', 'interference', 'expand', 'employees', 'detectors', 'copyright', 'contradiction', 'contents', 'circle', 'certai', 'buildings', 'bed', 'beautiful', 'associate', 'advertising', 'advanc', 'addressed', 'Won', 'VAN', 'Sea', 'SIMM', 'Packet', 'Over', 'Myrto', 'ESDI', '67', '114', 'usenetmnemosynecsduedu', 'trigger', 'speculation', 'speakers', 'socket', 'racist', 'publication', 'polic', 'pleas', 'module', 'min', 'mental', 'invasion', 'installing', 'insist', 'injured', 'imaging', 'horizontal', 'guilt', 'guaranteed', 'global', 'glass', 'followin', 'firing', 'emphasis', 'dust', 'courts', 'compiler', 'comfortable', 'codes', 'circuits', 'cables', 'burst', 'acceptance', 'Widget', 'Sound', 'Royal', 'PCs', 'Manual', 'Judaism', 'Joel', 'IIsi', 'Europeans', \"Didn't\", 'Dee', 'Business', 'Books', 'Assuming', 'Analysis', '99', '91', '1915', '105', 'ya', \"wouldn'\", 'wishes', 'void', 'tiny', 'thoug', 'talent', 'spiritual', 'sees', 'seats', 'satellites', 'sat', 'resurrection', 'regulations', 'promote', 'physician', 'origina', 'oppose', 'oh', 'newspitted', 'newsgallantappleco', 'largely', 'labor', 'intellect', 'instrument', 'height', 'friendly', 'forum', 'escaped', 'eliminate', 'deserves', 'cuts', 'cooperation', 'conventional', 'borders', 'ba', 'adults', 'Su', 'Secret', 'Russ', \"Qur'an\", 'PM', 'Minister', 'Local', 'LCIII', 'Kendig', 'Interesting', 'HOW', 'Gee', 'Excellent', 'Command', 'CDC', 'Borland', 'Andi', '650', '16bit', '07', 'writers', 'wounded', 'walked', 'unti', 'ultimate', 'therapy', 'relativism', 'recorded', 'prevented', 'postscript', 'island', 'income', 'goalie', 'gldcunixbcccolumbiaedu', 'fires', 'executed', 'examine', 'cure', 'consists', 'communities', 'busy', 'attributed', 'anger', 'ads', 'Yor', 'Yamaha', 'Until', 'Rice', 'RGB', 'QuickTime', 'QUE', \"Paul's\", 'Nyx', 'Notes', 'NOW', 'Management', 'IV', 'Derek', 'Cor', 'Compute', 'Community', 'Collins', 'Chinese', 'Berkele', 'BB', 'Anything', \"year's\", 'tv', 'trained', 'thee', 'switching', 'spectrum', 'revolution', 'requirement', 'rejected', 'pushing', 'preferably', 'pitchers', 'phenomena', 'outlet', 'outcome', 'north', 'launched', 'km', 'jury', 'interpretations', 'impressive', 'homeland', 'girls', 'funded', 'female', 'feelings', 'experiments', 'evidenc', 'decade', 'cruel', 'criteria', 'cprigcapcorg', 'bombing', 'batter', 'badly', 'archives', 'advocate', 'achieved', 'ac', 'Used', 'Top', 'TOR', 'Similarly', 'Say', 'SE', 'RIGHT', 'Put', 'Penguins', 'Norman', 'NH', 'Medicin', 'KSAND', 'Joh', 'Island', 'Instruments', 'Hamilton', 'FIRST', 'Californi', 'BNR', 'Arromdee', 'ALink', '275', '175', '144', \"you'r\", 'whereas', 'tight', 'theology', 'talkreligionmisctalkpoliticsmiscsciskepti', 'static', 'smooth', 'rider', 'psychological', 'pointer', 'netters', 'nasty', 'mounted', 'masses', 'magazines', 'lately', 'label', 'knock', 'highway', 'handled', 'gathered', 'flag', 'fir', 'facility', 'expose', 'edit', 'ears', 'convenient', 'brakes', 'availability', 'almos', 'adds', 'WHAT', 'Up', 'Speed', 'Softwar', 'SIMMS', 'Russians', 'Max', 'Kinsey', 'Josephus', 'Jimmy', 'Ji', 'Italy', 'ISBN', 'IR', 'Harris', 'Finlan', 'Evelyn', 'Driver', 'Chicag', 'C650', 'Artificial', 'Application', '5000', '301', 'warm', 'walls', 'threatened', 'struggle', 'speaks', 'promised', 'prbaccessdigexcom', 'posters', 'orde', 'nowhere', 'mix', 'manufacture', 'manipulation', 'loo', 'liv', 'liberties', 'knocked', 'innings', 'inherent', 'idle', 'halatpoohbears', 'feds', 'drove', 'desired', 'contrast', 'condemned', 'childre', 'array', 'alternatives', 'adult', 'Wha', 'Tyre', 'Senator', 'Saudi', 'Percentag', 'Modern', 'MI', 'Lunar', 'Libertarian', 'Kratz', 'Consider', 'CT', 'Athens', 'AP', 'width', 'technologies', 'switched', 'square', 'smal', 'shameful', 'sensor', 'script', 'scholars', 'protecting', 'pos', 'pop', 'planes', 'personnel', 'ofte', 'noone', 'neat', 'licensed', 'judged', 'incredibly', 'henrik', 'helping', 'heavily', 'floppies', 'feedback', 'extensive', 'exposed', 'dirt', 'dependent', 'dedicated', 'customers', 'continuing', 'classic', 'cash', 'broad', 'blown', 'audience', 'alarm', 'Yankees', 'Speaking', 'RA', 'R4', 'Quantum', 'McGill', 'MON', 'MAC', 'Kelly', 'Jefferson', 'Hudson', 'Ho', 'EOFNOTOK', 'Cyprus', 'Commercial', 'Britain', 'Beach', 'Arbor', 'Annual', '10000', '03', \"'9\", 'weird', 'verify', 'upper', 'si', 'sg', 'radiation', 'necessity', 'myth', 'mere', 'marketing', 'loca', 'lands', \"isn'\", 'introduction', 'highe', 'handy', 'glory', 'garbage', 'entering', 'engaged', 'covering', 'connections', 'belongs', 'bands', 'babies', 'approval', 'apologize', 'addressing', 'Weaver', 'Update', 'Terry', 'Reds', 'Nope', 'Maxtor', 'Mathematics', 'MP', 'Johns', 'JFIF', 'Irvine', 'Grand', 'ERA', 'Campbell', 'Ben', 'Age', '510', 'wounds', 'syndrome', 'surprising', 'solntzewpdsgico', 'representatives', 'relating', 'reactions', 'racism', 'pounds', 'pointers', 'peaceful', 'origins', 'newspapers', 'mistaken', 'marked', 'jim', 'interrupt', 'ine', 'honestly', 'healthy', 'hanging', 'hang', 'gu', 'foun', 'forgotten', 'expense', 'emotional', 'east', 'disclaimers', 'difficulty', 'deals', 'custom', 'chronic', 'bullets', 'bps', 'Tha', 'Temple', 'Telephone', 'Syria', 'Swede', 'Senior', 'Seattl', 'SF', 'Ross', 'RBI', 'Pasadena', 'Olchowy', 'Mt', 'Moslem', 'Low', 'Lemieux', 'Land', 'Laboratories', 'Jeffrey', 'Hayes', 'Getting', 'Fort', 'Firearms', \"DON'T\", 'CMOS', 'Bulletin', 'Arts', 'Ancient', 'wheels', 'wante', 'trace', 'torture', 'tclockorionoacuciedu', 'stores', 'steal', 'spelling', 'species', 'solved', 'soft', 'snow', 'smoking', 'skills', 'reporting', \"poster's\", 'pissed', 'naturally', 'loves', 'jail', 'irrational', 'involvement', 'humor', 'hey', 'gam', 'financial', 'explains', 'engineer', 'constitutional', 'consensus', 'condemn', 'cartridge', 'captain', 'beta', 'begins', 'association', 'alread', 'accused', 'Zionist', \"We'll\", 'Tennessee', 'Telecom', 'Switzerland', 'SJ', 'Rescorla', 'RF', 'Psalm', 'PRESIDENT', 'Oakland', 'Nicholas', 'NeXT', 'NCR', 'Live', 'Iranian', 'FREE', 'Ever', 'Erik', 'Energy', 'Easter', 'Dec', 'Current', 'Clemens', 'Clearly', 'Capital', 'BUF', 'viewers', 'tryin', 'tr', 'tol', 'sword', 'struck', 'shoulder', 'sen', 'scheduled', 'satisfied', 'remind', 'programmer', 'prime', 'physically', 'ope', 'nicely', 'mathe', 'leg', 'heterosexual', \"government's\", 'falling', 'facilities', 'enemies', 'enable', 'documented', 'conscience', 'computing', 'christian', 'catalog', 'accidents', 'XMailer', 'Walter', 'WWII', 'V6', 'Things', 'Singer', 'S2', 'Rd', 'PhD', 'Operating', 'Murphy', 'Iraqi', 'Internal', 'Foreign', 'Dakota', 'Canon', 'Buy', 'Bo', 'Based', 'BEST', '89', '87', '800x600', 'worthless', 'wondered', 'winner', 'violations', 'valve', 'sudden', 'slight', 'simultaneously', 'silent', 'seeking', 'residents', 'rent', 'readily', 'plausible', 'pitches', 'operator', 'odwyersseie', 'mystery', 'methodology', 'males', 'lif', 'involving', 'implied', 'helainscwrued', 'hatching', 'grou', 'dynamic', 'dumb', 'du', 'drinking', 'distribute', 'designs', 'cup', 'criticism', 'confirmed', 'co', 'cleaning', 'believers', 'bars', 'banned', 'arromdeejyusenkyoucsjhuedu', 'argued', 'antenna', 'allocation', \"You've\", 'Wood', 'WA', 'Users', 'Ulf', 'TH', 'September', 'STEPHANOPOULOS', 'Portable', 'OFF', 'Norway', 'Mercury', 'Mamma', 'Machine', 'Lance', 'Indians', 'Hens', 'HARD', 'Despite', 'DISCLAIMER', 'Conlo', 'Challenge', 'Caps', \"Can't\", 'Brookline', 'BDs', 'BA', 'Amanda', 'Africa', '121', \"'I'm\", 'viewpoint', 'versio', 'vacuum', 'tragedy', 'stretch', 'sooner', 'slowly', 'seizures', 'searching', 'row', 'producing', 'perso', 'pas', 'oriented', 'opposing', 'nntpacsubuffaloed', 'motivated', 'mod', 'mankind', 'lawyers', 'intervention', 'insane', 'horizon', 'golchowyalchemychemutorontoca', 'garage', 'founded', 'followup', 'flesh', 'fate', 'exclusively', 'exciting', 'differential', 'differ', 'customer', 'creates', 'consistently', 'comparing', 'chi', 'cat', 'camps', 'brothers', 'brains', 'award']\n"
     ]
    }
   ],
   "source": [
    "#deciding the no. of words to use as feature\n",
    "n = 5555\n",
    "features = words[0:n]\n",
    "print(features)"
   ]
  },
  {
   "cell_type": "code",
   "execution_count": 27,
   "metadata": {},
   "outputs": [],
   "source": [
    "#creating a dictionary that contains each document's vocabulary and ocurence of each word of the vocabulary \n",
    "dictionary = {}\n",
    "doc_num = 1\n",
    "for doc_words in list_of_words:\n",
    "    #print(doc_words)\n",
    "    np_doc_words = np.asarray(doc_words)\n",
    "    w, c = np.unique(np_doc_words, return_counts=True)\n",
    "    dictionary[doc_num] = {}\n",
    "    for i in range(len(w)):\n",
    "        dictionary[doc_num][w[i]] = c[i]\n",
    "    doc_num = doc_num + 1"
   ]
  },
  {
   "cell_type": "code",
   "execution_count": 28,
   "metadata": {},
   "outputs": [],
   "source": [
    "x_train_doc = []\n",
    "for k in dictionary.keys():\n",
    "    row=[]\n",
    "    for f in features:\n",
    "        if(f in dictionary[k].keys()):\n",
    "            #if word f is present in the dictionary of the document as a key, its value is copied\n",
    "            #this gives us no. of occurences\n",
    "            row.append(dictionary[k][f])\n",
    "        else:\n",
    "            row.append(0)\n",
    "    x_train_doc.append(row)"
   ]
  },
  {
   "cell_type": "code",
   "execution_count": 29,
   "metadata": {},
   "outputs": [],
   "source": [
    "#we convert the X and Y into np array for concatenation and conversion into dataframe\n",
    "x_train_doc = np.asarray(x_train_doc)\n",
    "y_train = np.asarray(y_train)"
   ]
  },
  {
   "cell_type": "code",
   "execution_count": 30,
   "metadata": {},
   "outputs": [],
   "source": [
    "list_of_words_test = []\n",
    "\n",
    "for document in x_test:\n",
    "        list_of_words_test.append(flat(tokenize(document)))\n",
    "\n",
    "dictionary_test = {}\n",
    "doc_num = 1\n",
    "for doc_words in list_of_words_test:\n",
    "    #print(doc_words)\n",
    "    np_doc_words = np.asarray(doc_words)\n",
    "    w, c = np.unique(np_doc_words, return_counts=True)\n",
    "    dictionary_test[doc_num] = {}\n",
    "    for i in range(len(w)):\n",
    "        dictionary_test[doc_num][w[i]] = c[i]\n",
    "    doc_num = doc_num + 1\n",
    "\n",
    "x_doc_test = []\n",
    "for k in dictionary_test.keys():\n",
    "    row = []\n",
    "    for f in features:\n",
    "        if(f in dictionary_test[k].keys()):\n",
    "            #if word f is present in the dictionary of the document as a key, its value is copied\n",
    "            #this gives us no. of occurences\n",
    "            row.append(dictionary_test[k][f]) \n",
    "        else:\n",
    "            #if not present, the no. of occurences is zero\n",
    "            row.append(0)\n",
    "    x_doc_test.append(row)\n",
    "\n",
    "x_doc_test = np.asarray(x_doc_test)\n",
    "y_test = np.asarray(y_test)"
   ]
  },
  {
   "cell_type": "code",
   "execution_count": 31,
   "metadata": {},
   "outputs": [
    {
     "data": {
      "text/plain": [
       "MultinomialNB(alpha=1.0, class_prior=None, fit_prior=True)"
      ]
     },
     "execution_count": 31,
     "metadata": {},
     "output_type": "execute_result"
    }
   ],
   "source": [
    "# Implementing inbuilt naive bayes\n",
    "from sklearn.naive_bayes import MultinomialNB\n",
    "clf = MultinomialNB()\n",
    "clf.fit(x_train_doc, y_train)"
   ]
  },
  {
   "cell_type": "code",
   "execution_count": 32,
   "metadata": {},
   "outputs": [],
   "source": [
    "y_predict = clf.predict(x_doc_test)"
   ]
  },
  {
   "cell_type": "code",
   "execution_count": 33,
   "metadata": {},
   "outputs": [
    {
     "data": {
      "text/plain": [
       "0.865"
      ]
     },
     "execution_count": 33,
     "metadata": {},
     "output_type": "execute_result"
    }
   ],
   "source": [
    "clf.score(x_doc_test, y_test)"
   ]
  },
  {
   "cell_type": "code",
   "execution_count": 34,
   "metadata": {},
   "outputs": [
    {
     "name": "stdout",
     "output_type": "stream",
     "text": [
      "                          precision    recall  f1-score   support\n",
      "\n",
      "             alt.atheism       0.74      0.80      0.77       240\n",
      "           comp.graphics       0.77      0.78      0.77       244\n",
      " comp.os.ms-windows.misc       0.85      0.88      0.86       240\n",
      "comp.sys.ibm.pc.hardware       0.88      0.89      0.89       256\n",
      "   comp.sys.mac.hardware       0.87      0.92      0.90       249\n",
      "          comp.windows.x       0.93      0.85      0.89       233\n",
      "            misc.forsale       0.75      0.92      0.83       259\n",
      "               rec.autos       0.91      0.92      0.92       253\n",
      "         rec.motorcycles       0.91      0.95      0.93       231\n",
      "      rec.sport.baseball       0.95      0.95      0.95       236\n",
      "        rec.sport.hockey       0.98      0.96      0.97       261\n",
      "               sci.crypt       0.96      0.91      0.93       269\n",
      "         sci.electronics       0.84      0.87      0.86       246\n",
      "                 sci.med       0.96      0.87      0.92       284\n",
      "               sci.space       0.92      0.92      0.92       248\n",
      "  soc.religion.christian       0.96      1.00      0.98       281\n",
      "      talk.politics.guns       0.78      0.89      0.83       253\n",
      "   talk.politics.mideast       0.92      0.85      0.88       233\n",
      "      talk.politics.misc       0.74      0.70      0.72       248\n",
      "      talk.religion.misc       0.65      0.44      0.52       236\n",
      "\n",
      "             avg / total       0.87      0.86      0.86      5000\n",
      "\n"
     ]
    }
   ],
   "source": [
    "from sklearn.metrics import classification_report, confusion_matrix, accuracy_score\n",
    "print(classification_report(y_test, y_predict))"
   ]
  },
  {
   "cell_type": "code",
   "execution_count": 35,
   "metadata": {},
   "outputs": [],
   "source": [
    "y_predict_train = clf.predict(x_train_doc)"
   ]
  },
  {
   "cell_type": "code",
   "execution_count": 36,
   "metadata": {},
   "outputs": [
    {
     "data": {
      "text/plain": [
       "0.9040474761618991"
      ]
     },
     "execution_count": 36,
     "metadata": {},
     "output_type": "execute_result"
    }
   ],
   "source": [
    "clf.score(x_train_doc, y_train)"
   ]
  },
  {
   "cell_type": "code",
   "execution_count": 37,
   "metadata": {},
   "outputs": [
    {
     "name": "stdout",
     "output_type": "stream",
     "text": [
      "                          precision    recall  f1-score   support\n",
      "\n",
      "             alt.atheism       0.81      0.89      0.85       760\n",
      "           comp.graphics       0.88      0.86      0.87       756\n",
      " comp.os.ms-windows.misc       0.89      0.92      0.91       760\n",
      "comp.sys.ibm.pc.hardware       0.90      0.92      0.91       744\n",
      "   comp.sys.mac.hardware       0.93      0.95      0.94       751\n",
      "          comp.windows.x       0.96      0.91      0.93       767\n",
      "            misc.forsale       0.77      0.94      0.85       741\n",
      "               rec.autos       0.91      0.96      0.93       747\n",
      "         rec.motorcycles       0.93      0.98      0.95       769\n",
      "      rec.sport.baseball       0.98      0.97      0.97       764\n",
      "        rec.sport.hockey       0.98      0.97      0.97       739\n",
      "               sci.crypt       0.98      0.91      0.95       731\n",
      "         sci.electronics       0.90      0.92      0.91       754\n",
      "                 sci.med       0.98      0.90      0.93       716\n",
      "               sci.space       0.94      0.95      0.95       752\n",
      "  soc.religion.christian       0.97      0.99      0.98       716\n",
      "      talk.politics.guns       0.83      0.93      0.88       747\n",
      "   talk.politics.mideast       0.96      0.89      0.92       767\n",
      "      talk.politics.misc       0.82      0.73      0.77       752\n",
      "      talk.religion.misc       0.80      0.60      0.69       764\n",
      "\n",
      "             avg / total       0.91      0.90      0.90     14997\n",
      "\n"
     ]
    }
   ],
   "source": [
    "print(classification_report(y_train, y_predict_train))"
   ]
  },
  {
   "cell_type": "markdown",
   "metadata": {},
   "source": [
    "### Self Implementations"
   ]
  },
  {
   "cell_type": "code",
   "execution_count": 38,
   "metadata": {},
   "outputs": [],
   "source": [
    "#function to create a training dictionary out of the text files for training set, consisiting the frequency of\n",
    "#words in our feature set (vocabulary) in each class or label of the 20 newsgroup\n",
    "def fit(x_train, y_train):\n",
    "    result = {}\n",
    "    classes, counts = np.unique(y_train, return_counts=True)\n",
    "    for i in range(len(classes)):\n",
    "        curr_class = classes[i]\n",
    "        result[\"Total_Data\"] = len(y_train)\n",
    "        result[curr_class] = {}\n",
    "        x_train_curr = x_train[y_train == curr_class]\n",
    "        num_of_features = len(x_train[0])\n",
    "        for j in range(num_of_features):\n",
    "            result[curr_class][features[j]] = x_train_curr[:, j].sum()\n",
    "        result[curr_class][\"Total_Count\"] = counts[i]\n",
    "    return result"
   ]
  },
  {
   "cell_type": "code",
   "execution_count": 39,
   "metadata": {},
   "outputs": [],
   "source": [
    "#function for calculating naive bayesian log probablity for each test document being in a particular class\n",
    "\n",
    "def log_probab(dictionary_train, x, curr_class):\n",
    "    output = np.log(dictionary_train[curr_class][\"Total_Count\"]) - np.log(dictionary_train[\"Total_Data\"])\n",
    "    num_words = len(x)\n",
    "    for j in range(num_words):\n",
    "        if(x[j] in dictionary_train[curr_class].keys()):\n",
    "            xj = x[j]\n",
    "            count_curr_class_xj = dictionary_train[curr_class][xj] + 1\n",
    "            count_curr_class = dictionary_train[curr_class][\"Total_Count\"] + len(dictionary_train[curr_class].keys())\n",
    "            curr_xj_probab = np.log(count_curr_class_xj) - np.log(count_curr_class)\n",
    "            output = output + curr_xj_probab\n",
    "        else:\n",
    "            continue\n",
    "    return output"
   ]
  },
  {
   "cell_type": "code",
   "execution_count": 40,
   "metadata": {},
   "outputs": [],
   "source": [
    "#helper function for the predict() function that predicts the class or label for one test document at a time\n",
    "\n",
    "def predictSinglePoint(dictionary, x):\n",
    "    classes = dictionary.keys()\n",
    "    best_p = -1000\n",
    "    best_class = -1\n",
    "    first_run = True\n",
    "    for current_class in classes:\n",
    "        if current_class == \"Total_Data\":\n",
    "            continue\n",
    "        p_current_class = log_probab(dictionary, x, current_class)\n",
    "        if (first_run or p_current_class > best_p):\n",
    "            best_p = p_current_class\n",
    "            best_class = current_class\n",
    "        first_run = False\n",
    "    return best_class"
   ]
  },
  {
   "cell_type": "code",
   "execution_count": 41,
   "metadata": {},
   "outputs": [],
   "source": [
    "#predict function that predicts the class or label of test documents using train dictionary made using the fit() function\n",
    "def predict(dictionary, X_test):\n",
    "    Y_pred = []\n",
    "    for x in X_test:\n",
    "        x_class = predictSinglePoint(dictionary, x)\n",
    "        Y_pred.append(x_class)\n",
    "    return Y_pred"
   ]
  },
  {
   "cell_type": "code",
   "execution_count": 42,
   "metadata": {},
   "outputs": [],
   "source": [
    "train_dict = fit(x_train_doc, y_train)"
   ]
  },
  {
   "cell_type": "code",
   "execution_count": 43,
   "metadata": {},
   "outputs": [],
   "source": [
    "x_test = []\n",
    "for key in dictionary_test.keys():\n",
    "    x_test.append(list(dictionary_test[key].keys()))"
   ]
  },
  {
   "cell_type": "code",
   "execution_count": 44,
   "metadata": {},
   "outputs": [],
   "source": [
    "my_pred = predict(train_dict, x_test)"
   ]
  },
  {
   "cell_type": "code",
   "execution_count": 45,
   "metadata": {},
   "outputs": [
    {
     "data": {
      "text/plain": [
       "0.6958"
      ]
     },
     "execution_count": 45,
     "metadata": {},
     "output_type": "execute_result"
    }
   ],
   "source": [
    "my_pred = np.asarray(my_pred)\n",
    "accuracy_score(y_test, my_pred)"
   ]
  },
  {
   "cell_type": "code",
   "execution_count": 46,
   "metadata": {},
   "outputs": [
    {
     "name": "stdout",
     "output_type": "stream",
     "text": [
      "                          precision    recall  f1-score   support\n",
      "\n",
      "             alt.atheism       0.76      0.70      0.73       240\n",
      "           comp.graphics       0.66      0.80      0.72       244\n",
      " comp.os.ms-windows.misc       0.93      0.57      0.70       240\n",
      "comp.sys.ibm.pc.hardware       0.90      0.67      0.77       256\n",
      "   comp.sys.mac.hardware       0.95      0.67      0.78       249\n",
      "          comp.windows.x       0.73      0.89      0.80       233\n",
      "            misc.forsale       0.96      0.53      0.68       259\n",
      "               rec.autos       0.95      0.55      0.70       253\n",
      "         rec.motorcycles       1.00      0.38      0.55       231\n",
      "      rec.sport.baseball       0.99      0.79      0.88       236\n",
      "        rec.sport.hockey       0.99      0.86      0.92       261\n",
      "               sci.crypt       0.74      0.90      0.81       269\n",
      "         sci.electronics       0.95      0.47      0.63       246\n",
      "                 sci.med       0.96      0.63      0.76       284\n",
      "               sci.space       0.97      0.59      0.73       248\n",
      "  soc.religion.christian       0.99      0.99      0.99       281\n",
      "      talk.politics.guns       0.89      0.68      0.77       253\n",
      "   talk.politics.mideast       0.26      1.00      0.41       233\n",
      "      talk.politics.misc       0.34      0.79      0.47       248\n",
      "      talk.religion.misc       0.61      0.42      0.50       236\n",
      "\n",
      "             avg / total       0.83      0.70      0.72      5000\n",
      "\n"
     ]
    }
   ],
   "source": [
    "print(classification_report(y_test, my_pred))"
   ]
  },
  {
   "cell_type": "code",
   "execution_count": null,
   "metadata": {},
   "outputs": [],
   "source": []
  },
  {
   "cell_type": "code",
   "execution_count": null,
   "metadata": {},
   "outputs": [],
   "source": []
  }
 ],
 "metadata": {
  "kernelspec": {
   "display_name": "Python 3",
   "language": "python",
   "name": "python3"
  },
  "language_info": {
   "codemirror_mode": {
    "name": "ipython",
    "version": 3
   },
   "file_extension": ".py",
   "mimetype": "text/x-python",
   "name": "python",
   "nbconvert_exporter": "python",
   "pygments_lexer": "ipython3",
   "version": "3.6.5"
  }
 },
 "nbformat": 4,
 "nbformat_minor": 2
}
